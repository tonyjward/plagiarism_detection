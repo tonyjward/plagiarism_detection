{
 "cells": [
  {
   "cell_type": "markdown",
   "metadata": {},
   "source": [
    "Add the dictory one level up to the sys path so we can find srv as per\n",
    "https://stackoverflow.com/a/4383597\n"
   ]
  },
  {
   "cell_type": "code",
   "execution_count": 1,
   "metadata": {},
   "outputs": [],
   "source": [
    "import sys\n",
    "sys.path.insert(1, '../') "
   ]
  },
  {
   "cell_type": "code",
   "execution_count": 2,
   "metadata": {},
   "outputs": [],
   "source": [
    "import pickle\n",
    "import os\n",
    "import numpy as np"
   ]
  },
  {
   "cell_type": "code",
   "execution_count": 3,
   "metadata": {},
   "outputs": [],
   "source": [
    "SEARCH_TERM = 'xgboost'\n",
    "SAVE_DIR = 'data'"
   ]
  },
  {
   "cell_type": "markdown",
   "metadata": {},
   "source": [
    "# Create Features"
   ]
  },
  {
   "cell_type": "code",
   "execution_count": 4,
   "metadata": {},
   "outputs": [],
   "source": [
    "# load data\n",
    "filename_features = SEARCH_TERM.replace(' ', '_') +'_features.p'  \n",
    "features_df = pickle.load(open(os.path.join(SAVE_DIR, filename_features), \"rb\"))"
   ]
  },
  {
   "cell_type": "code",
   "execution_count": 5,
   "metadata": {},
   "outputs": [
    {
     "data": {
      "text/html": [
       "<div>\n",
       "<style scoped>\n",
       "    .dataframe tbody tr th:only-of-type {\n",
       "        vertical-align: middle;\n",
       "    }\n",
       "\n",
       "    .dataframe tbody tr th {\n",
       "        vertical-align: top;\n",
       "    }\n",
       "\n",
       "    .dataframe thead th {\n",
       "        text-align: right;\n",
       "    }\n",
       "</style>\n",
       "<table border=\"1\" class=\"dataframe\">\n",
       "  <thead>\n",
       "    <tr style=\"text-align: right;\">\n",
       "      <th></th>\n",
       "      <th>A</th>\n",
       "      <th>B</th>\n",
       "      <th>author_A</th>\n",
       "      <th>author_B</th>\n",
       "      <th>link_A</th>\n",
       "      <th>link_B</th>\n",
       "      <th>article_A</th>\n",
       "      <th>article_B</th>\n",
       "      <th>lcs_word</th>\n",
       "    </tr>\n",
       "  </thead>\n",
       "  <tbody>\n",
       "    <tr>\n",
       "      <th>0</th>\n",
       "      <td>0</td>\n",
       "      <td>1</td>\n",
       "      <td>Duncan Cam-Stei</td>\n",
       "      <td>Jean T</td>\n",
       "      <td>https://medium.com/@dcameronsteinke/what-is-mu...</td>\n",
       "      <td>https://medium.com/@jean2009up/if-i-am-gonna-b...</td>\n",
       "      <td>What is Multi-Label? - Duncan Cam-Stei - Mediu...</td>\n",
       "      <td>If I am gonna build a xgboost model, can I sti...</td>\n",
       "      <td>0.021962</td>\n",
       "    </tr>\n",
       "    <tr>\n",
       "      <th>1</th>\n",
       "      <td>0</td>\n",
       "      <td>2</td>\n",
       "      <td>Duncan Cam-Stei</td>\n",
       "      <td>Nikhilesh A. Vaidya</td>\n",
       "      <td>https://medium.com/@dcameronsteinke/what-is-mu...</td>\n",
       "      <td>https://medium.com/@GaussEuler/philadelphia-ho...</td>\n",
       "      <td>What is Multi-Label? - Duncan Cam-Stei - Mediu...</td>\n",
       "      <td>Philadelphia Housing Data Part-III: Machine Le...</td>\n",
       "      <td>0.168375</td>\n",
       "    </tr>\n",
       "    <tr>\n",
       "      <th>2</th>\n",
       "      <td>0</td>\n",
       "      <td>3</td>\n",
       "      <td>Duncan Cam-Stei</td>\n",
       "      <td>Jackie Lo</td>\n",
       "      <td>https://medium.com/@dcameronsteinke/what-is-mu...</td>\n",
       "      <td>https://medium.com/@jackielo_69076/windows-10-...</td>\n",
       "      <td>What is Multi-Label? - Duncan Cam-Stei - Mediu...</td>\n",
       "      <td>Windows 10 安裝 Xgboost - Jackie Lo - MediumOpen...</td>\n",
       "      <td>0.018302</td>\n",
       "    </tr>\n",
       "    <tr>\n",
       "      <th>3</th>\n",
       "      <td>0</td>\n",
       "      <td>4</td>\n",
       "      <td>Duncan Cam-Stei</td>\n",
       "      <td>Blank</td>\n",
       "      <td>https://medium.com/@dcameronsteinke/what-is-mu...</td>\n",
       "      <td>https://cnwang.me/%E8%88%87%E5%A4%A7%E5%AE%B6%...</td>\n",
       "      <td>What is Multi-Label? - Duncan Cam-Stei - Mediu...</td>\n",
       "      <td>Blank</td>\n",
       "      <td>0.000000</td>\n",
       "    </tr>\n",
       "    <tr>\n",
       "      <th>4</th>\n",
       "      <td>0</td>\n",
       "      <td>5</td>\n",
       "      <td>Duncan Cam-Stei</td>\n",
       "      <td>Madhu Ramiah</td>\n",
       "      <td>https://medium.com/@dcameronsteinke/what-is-mu...</td>\n",
       "      <td>https://medium.com/@madhuramiah/introduction-t...</td>\n",
       "      <td>What is Multi-Label? - Duncan Cam-Stei - Mediu...</td>\n",
       "      <td>Introduction to Ensembling techniques- Boostin...</td>\n",
       "      <td>0.116398</td>\n",
       "    </tr>\n",
       "  </tbody>\n",
       "</table>\n",
       "</div>"
      ],
      "text/plain": [
       "   A  B         author_A             author_B  \\\n",
       "0  0  1  Duncan Cam-Stei               Jean T   \n",
       "1  0  2  Duncan Cam-Stei  Nikhilesh A. Vaidya   \n",
       "2  0  3  Duncan Cam-Stei            Jackie Lo   \n",
       "3  0  4  Duncan Cam-Stei                Blank   \n",
       "4  0  5  Duncan Cam-Stei         Madhu Ramiah   \n",
       "\n",
       "                                              link_A  \\\n",
       "0  https://medium.com/@dcameronsteinke/what-is-mu...   \n",
       "1  https://medium.com/@dcameronsteinke/what-is-mu...   \n",
       "2  https://medium.com/@dcameronsteinke/what-is-mu...   \n",
       "3  https://medium.com/@dcameronsteinke/what-is-mu...   \n",
       "4  https://medium.com/@dcameronsteinke/what-is-mu...   \n",
       "\n",
       "                                              link_B  \\\n",
       "0  https://medium.com/@jean2009up/if-i-am-gonna-b...   \n",
       "1  https://medium.com/@GaussEuler/philadelphia-ho...   \n",
       "2  https://medium.com/@jackielo_69076/windows-10-...   \n",
       "3  https://cnwang.me/%E8%88%87%E5%A4%A7%E5%AE%B6%...   \n",
       "4  https://medium.com/@madhuramiah/introduction-t...   \n",
       "\n",
       "                                           article_A  \\\n",
       "0  What is Multi-Label? - Duncan Cam-Stei - Mediu...   \n",
       "1  What is Multi-Label? - Duncan Cam-Stei - Mediu...   \n",
       "2  What is Multi-Label? - Duncan Cam-Stei - Mediu...   \n",
       "3  What is Multi-Label? - Duncan Cam-Stei - Mediu...   \n",
       "4  What is Multi-Label? - Duncan Cam-Stei - Mediu...   \n",
       "\n",
       "                                           article_B  lcs_word  \n",
       "0  If I am gonna build a xgboost model, can I sti...  0.021962  \n",
       "1  Philadelphia Housing Data Part-III: Machine Le...  0.168375  \n",
       "2  Windows 10 安裝 Xgboost - Jackie Lo - MediumOpen...  0.018302  \n",
       "3                                              Blank  0.000000  \n",
       "4  Introduction to Ensembling techniques- Boostin...  0.116398  "
      ]
     },
     "execution_count": 5,
     "metadata": {},
     "output_type": "execute_result"
    }
   ],
   "source": [
    "features_df.head()"
   ]
  },
  {
   "cell_type": "code",
   "execution_count": 7,
   "metadata": {},
   "outputs": [
    {
     "data": {
      "text/plain": [
       "pandas.core.series.Series"
      ]
     },
     "execution_count": 7,
     "metadata": {},
     "output_type": "execute_result"
    }
   ],
   "source": [
    "lcs = features_df['lcs_word']\n",
    "type(lcs)"
   ]
  },
  {
   "cell_type": "code",
   "execution_count": 8,
   "metadata": {},
   "outputs": [],
   "source": [
    "lcs_list = list(lcs)"
   ]
  },
  {
   "cell_type": "code",
   "execution_count": 9,
   "metadata": {},
   "outputs": [
    {
     "data": {
      "text/plain": [
       "0.021961932650073207"
      ]
     },
     "execution_count": 9,
     "metadata": {},
     "output_type": "execute_result"
    }
   ],
   "source": [
    "lcs_list[0]"
   ]
  },
  {
   "cell_type": "code",
   "execution_count": 10,
   "metadata": {},
   "outputs": [
    {
     "data": {
      "text/plain": [
       "list"
      ]
     },
     "execution_count": 10,
     "metadata": {},
     "output_type": "execute_result"
    }
   ],
   "source": [
    "type(lcs_list)"
   ]
  },
  {
   "cell_type": "code",
   "execution_count": 11,
   "metadata": {},
   "outputs": [
    {
     "data": {
      "text/plain": [
       "1.0"
      ]
     },
     "execution_count": 11,
     "metadata": {},
     "output_type": "execute_result"
    }
   ],
   "source": [
    "max(lcs_list)"
   ]
  },
  {
   "cell_type": "code",
   "execution_count": 12,
   "metadata": {},
   "outputs": [],
   "source": [
    "import pickle"
   ]
  },
  {
   "cell_type": "code",
   "execution_count": 14,
   "metadata": {},
   "outputs": [],
   "source": [
    "pickle.dump(lcs_list, open('xgboost_lcs.p', \"wb\"))"
   ]
  },
  {
   "cell_type": "code",
   "execution_count": null,
   "metadata": {},
   "outputs": [],
   "source": []
  }
 ],
 "metadata": {
  "kernelspec": {
   "display_name": "Python 3",
   "language": "python",
   "name": "python3"
  },
  "language_info": {
   "codemirror_mode": {
    "name": "ipython",
    "version": 3
   },
   "file_extension": ".py",
   "mimetype": "text/x-python",
   "name": "python",
   "nbconvert_exporter": "python",
   "pygments_lexer": "ipython3",
   "version": "3.7.7"
  }
 },
 "nbformat": 4,
 "nbformat_minor": 4
}
