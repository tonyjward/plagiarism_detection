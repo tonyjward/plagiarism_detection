{
 "cells": [
  {
   "cell_type": "markdown",
   "metadata": {},
   "source": [
    "# Investigate Plagiarism"
   ]
  },
  {
   "cell_type": "markdown",
   "metadata": {},
   "source": [
    "# Initialise"
   ]
  },
  {
   "cell_type": "code",
   "execution_count": 2,
   "metadata": {},
   "outputs": [],
   "source": [
    "MODEL_DIR = '../model'\n",
    "DATA_DIR = '../data'\n",
    "\n",
    "import sys\n",
    "sys.path.insert(1, '../') "
   ]
  },
  {
   "cell_type": "markdown",
   "metadata": {},
   "source": [
    "# Load Model"
   ]
  },
  {
   "cell_type": "code",
   "execution_count": 3,
   "metadata": {},
   "outputs": [],
   "source": [
    "from src.utils.model import BinaryClassifier\n",
    "import os\n",
    "import torch\n",
    "\n",
    "def model_fn(model_dir):\n",
    "    \"\"\"Load the PyTorch model from the `model_dir` directory.\"\"\"\n",
    "    print(\"Loading model.\")\n",
    "\n",
    "    # First, load the parameters used to create the model.\n",
    "    model_info = {}\n",
    "    model_info_path = os.path.join(model_dir, 'model_info.pth')\n",
    "    with open(model_info_path, 'rb') as f:\n",
    "        model_info = torch.load(f)\n",
    "\n",
    "    print(\"model_info: {}\".format(model_info))\n",
    "\n",
    "    # Determine the device and construct the model.\n",
    "    device = torch.device(\"cuda\" if torch.cuda.is_available() else \"cpu\")\n",
    "    model = BinaryClassifier(model_info['input_features'], model_info['hidden_dim'], model_info['output_dim'])\n",
    "\n",
    "    # Load the stored model parameters.\n",
    "    model_path = os.path.join(model_dir, 'model.pth')\n",
    "    with open(model_path, 'rb') as f:\n",
    "        model.load_state_dict(torch.load(f))\n",
    "\n",
    "    # set to eval mode, could use no_grad\n",
    "    model.to(device).eval()\n",
    "\n",
    "    print(\"Done loading model.\")\n",
    "    return model"
   ]
  },
  {
   "cell_type": "code",
   "execution_count": 4,
   "metadata": {},
   "outputs": [
    {
     "name": "stdout",
     "output_type": "stream",
     "text": [
      "Loading model.\n",
      "model_info: {'input_features': 2, 'hidden_dim': 7, 'output_dim': 1}\n",
      "Done loading model.\n"
     ]
    }
   ],
   "source": [
    "model = model_fn(MODEL_DIR)"
   ]
  },
  {
   "cell_type": "code",
   "execution_count": 5,
   "metadata": {},
   "outputs": [],
   "source": [
    "# Provided predict function\n",
    "def predict_fn(input_data, model):\n",
    "    print('Predicting class probabilities for the input data...')\n",
    "\n",
    "    device = torch.device(\"cuda\" if torch.cuda.is_available() else \"cpu\")\n",
    "    \n",
    "    # Process input_data so that it is ready to be sent to our model.\n",
    "    data = torch.from_numpy(input_data.astype('float32'))\n",
    "    data = data.to(device)\n",
    "\n",
    "    # Put the model into evaluation mode\n",
    "    model.eval()\n",
    "\n",
    "    # Predicted scores\n",
    "    probabilities = model(data).cpu().detach().numpy()\n",
    "\n",
    "    return probabilities"
   ]
  },
  {
   "cell_type": "code",
   "execution_count": 6,
   "metadata": {},
   "outputs": [
    {
     "data": {
      "text/plain": [
       "'/home/d14xj1/repos/plagiarism_detection/medium/notebooks'"
      ]
     },
     "execution_count": 6,
     "metadata": {},
     "output_type": "execute_result"
    }
   ],
   "source": [
    "os.getcwd()"
   ]
  },
  {
   "cell_type": "code",
   "execution_count": 7,
   "metadata": {},
   "outputs": [],
   "source": [
    "import pickle\n",
    "feature_matrix = pickle.load(open(os.path.join(DATA_DIR, 'coronavirus_feature_matrix.p'), 'rb'))"
   ]
  },
  {
   "cell_type": "code",
   "execution_count": 8,
   "metadata": {},
   "outputs": [
    {
     "data": {
      "text/html": [
       "<div>\n",
       "<style scoped>\n",
       "    .dataframe tbody tr th:only-of-type {\n",
       "        vertical-align: middle;\n",
       "    }\n",
       "\n",
       "    .dataframe tbody tr th {\n",
       "        vertical-align: top;\n",
       "    }\n",
       "\n",
       "    .dataframe thead th {\n",
       "        text-align: right;\n",
       "    }\n",
       "</style>\n",
       "<table border=\"1\" class=\"dataframe\">\n",
       "  <thead>\n",
       "    <tr style=\"text-align: right;\">\n",
       "      <th></th>\n",
       "      <th>A</th>\n",
       "      <th>B</th>\n",
       "      <th>author_A</th>\n",
       "      <th>author_B</th>\n",
       "      <th>link_A</th>\n",
       "      <th>link_B</th>\n",
       "      <th>article_A</th>\n",
       "      <th>article_B</th>\n",
       "      <th>c_20</th>\n",
       "      <th>lcs_word</th>\n",
       "    </tr>\n",
       "  </thead>\n",
       "  <tbody>\n",
       "    <tr>\n",
       "      <th>0</th>\n",
       "      <td>0</td>\n",
       "      <td>1</td>\n",
       "      <td>Blank</td>\n",
       "      <td>Bloomberg</td>\n",
       "      <td>https://towardsdatascience.com/its-time-to-get...</td>\n",
       "      <td>https://medium.com/bloomberg/can-we-get-a-vacc...</td>\n",
       "      <td>Blank</td>\n",
       "      <td>Can We Get a Vaccine Early? How the Rich Are P...</td>\n",
       "      <td>NaN</td>\n",
       "      <td>0.0</td>\n",
       "    </tr>\n",
       "    <tr>\n",
       "      <th>1</th>\n",
       "      <td>0</td>\n",
       "      <td>2</td>\n",
       "      <td>Blank</td>\n",
       "      <td>Emily Mullin</td>\n",
       "      <td>https://towardsdatascience.com/its-time-to-get...</td>\n",
       "      <td>https://onezero.medium.com/new-testing-tech-co...</td>\n",
       "      <td>Blank</td>\n",
       "      <td>Scientists Are Racing to Get Us Faster, Simple...</td>\n",
       "      <td>NaN</td>\n",
       "      <td>0.0</td>\n",
       "    </tr>\n",
       "    <tr>\n",
       "      <th>2</th>\n",
       "      <td>0</td>\n",
       "      <td>3</td>\n",
       "      <td>Blank</td>\n",
       "      <td>Rebekah Monson</td>\n",
       "      <td>https://towardsdatascience.com/its-time-to-get...</td>\n",
       "      <td>https://medium.com/whereby-us/5-practical-tips...</td>\n",
       "      <td>Blank</td>\n",
       "      <td>5 practical tips for managing newly remote tea...</td>\n",
       "      <td>NaN</td>\n",
       "      <td>0.0</td>\n",
       "    </tr>\n",
       "    <tr>\n",
       "      <th>3</th>\n",
       "      <td>0</td>\n",
       "      <td>4</td>\n",
       "      <td>Blank</td>\n",
       "      <td>Aaron Schnoor</td>\n",
       "      <td>https://towardsdatascience.com/its-time-to-get...</td>\n",
       "      <td>https://medium.com/lessons-from-history/is-the...</td>\n",
       "      <td>Blank</td>\n",
       "      <td>Is the Coronavirus the New Black Plague? - Les...</td>\n",
       "      <td>NaN</td>\n",
       "      <td>0.0</td>\n",
       "    </tr>\n",
       "    <tr>\n",
       "      <th>4</th>\n",
       "      <td>0</td>\n",
       "      <td>5</td>\n",
       "      <td>Blank</td>\n",
       "      <td>Slava Kurilyak</td>\n",
       "      <td>https://towardsdatascience.com/its-time-to-get...</td>\n",
       "      <td>https://blog.produvia.com/artificial-intellige...</td>\n",
       "      <td>Blank</td>\n",
       "      <td>Coronavirus Update: Real Estate and Artificial...</td>\n",
       "      <td>NaN</td>\n",
       "      <td>0.0</td>\n",
       "    </tr>\n",
       "  </tbody>\n",
       "</table>\n",
       "</div>"
      ],
      "text/plain": [
       "   A  B author_A        author_B  \\\n",
       "0  0  1    Blank       Bloomberg   \n",
       "1  0  2    Blank    Emily Mullin   \n",
       "2  0  3    Blank  Rebekah Monson   \n",
       "3  0  4    Blank   Aaron Schnoor   \n",
       "4  0  5    Blank  Slava Kurilyak   \n",
       "\n",
       "                                              link_A  \\\n",
       "0  https://towardsdatascience.com/its-time-to-get...   \n",
       "1  https://towardsdatascience.com/its-time-to-get...   \n",
       "2  https://towardsdatascience.com/its-time-to-get...   \n",
       "3  https://towardsdatascience.com/its-time-to-get...   \n",
       "4  https://towardsdatascience.com/its-time-to-get...   \n",
       "\n",
       "                                              link_B article_A  \\\n",
       "0  https://medium.com/bloomberg/can-we-get-a-vacc...     Blank   \n",
       "1  https://onezero.medium.com/new-testing-tech-co...     Blank   \n",
       "2  https://medium.com/whereby-us/5-practical-tips...     Blank   \n",
       "3  https://medium.com/lessons-from-history/is-the...     Blank   \n",
       "4  https://blog.produvia.com/artificial-intellige...     Blank   \n",
       "\n",
       "                                           article_B  c_20  lcs_word  \n",
       "0  Can We Get a Vaccine Early? How the Rich Are P...   NaN       0.0  \n",
       "1  Scientists Are Racing to Get Us Faster, Simple...   NaN       0.0  \n",
       "2  5 practical tips for managing newly remote tea...   NaN       0.0  \n",
       "3  Is the Coronavirus the New Black Plague? - Les...   NaN       0.0  \n",
       "4  Coronavirus Update: Real Estate and Artificial...   NaN       0.0  "
      ]
     },
     "execution_count": 8,
     "metadata": {},
     "output_type": "execute_result"
    }
   ],
   "source": [
    "feature_matrix.head()"
   ]
  },
  {
   "cell_type": "code",
   "execution_count": 9,
   "metadata": {},
   "outputs": [
    {
     "data": {
      "text/html": [
       "<div>\n",
       "<style scoped>\n",
       "    .dataframe tbody tr th:only-of-type {\n",
       "        vertical-align: middle;\n",
       "    }\n",
       "\n",
       "    .dataframe tbody tr th {\n",
       "        vertical-align: top;\n",
       "    }\n",
       "\n",
       "    .dataframe thead th {\n",
       "        text-align: right;\n",
       "    }\n",
       "</style>\n",
       "<table border=\"1\" class=\"dataframe\">\n",
       "  <thead>\n",
       "    <tr style=\"text-align: right;\">\n",
       "      <th></th>\n",
       "      <th>c_20</th>\n",
       "      <th>lcs_word</th>\n",
       "    </tr>\n",
       "  </thead>\n",
       "  <tbody>\n",
       "    <tr>\n",
       "      <th>0</th>\n",
       "      <td>NaN</td>\n",
       "      <td>0.0</td>\n",
       "    </tr>\n",
       "    <tr>\n",
       "      <th>1</th>\n",
       "      <td>NaN</td>\n",
       "      <td>0.0</td>\n",
       "    </tr>\n",
       "    <tr>\n",
       "      <th>2</th>\n",
       "      <td>NaN</td>\n",
       "      <td>0.0</td>\n",
       "    </tr>\n",
       "    <tr>\n",
       "      <th>3</th>\n",
       "      <td>NaN</td>\n",
       "      <td>0.0</td>\n",
       "    </tr>\n",
       "    <tr>\n",
       "      <th>4</th>\n",
       "      <td>NaN</td>\n",
       "      <td>0.0</td>\n",
       "    </tr>\n",
       "  </tbody>\n",
       "</table>\n",
       "</div>"
      ],
      "text/plain": [
       "   c_20  lcs_word\n",
       "0   NaN       0.0\n",
       "1   NaN       0.0\n",
       "2   NaN       0.0\n",
       "3   NaN       0.0\n",
       "4   NaN       0.0"
      ]
     },
     "execution_count": 9,
     "metadata": {},
     "output_type": "execute_result"
    }
   ],
   "source": [
    "feature_matrix[['c_20', 'lcs_word']].head()"
   ]
  },
  {
   "cell_type": "code",
   "execution_count": 10,
   "metadata": {},
   "outputs": [
    {
     "name": "stdout",
     "output_type": "stream",
     "text": [
      "Predicting class probabilities for the input data...\n"
     ]
    }
   ],
   "source": [
    "feature_matrix['curtailment_prob'] = predict_fn(feature_matrix[['c_20', 'lcs_word']].values, model)"
   ]
  },
  {
   "cell_type": "code",
   "execution_count": 11,
   "metadata": {},
   "outputs": [],
   "source": [
    "feature_matrix.sort_values('curtailment_prob', ascending = False, inplace = True, ignore_index = True)"
   ]
  },
  {
   "cell_type": "code",
   "execution_count": 12,
   "metadata": {},
   "outputs": [
    {
     "data": {
      "text/html": [
       "<div>\n",
       "<style scoped>\n",
       "    .dataframe tbody tr th:only-of-type {\n",
       "        vertical-align: middle;\n",
       "    }\n",
       "\n",
       "    .dataframe tbody tr th {\n",
       "        vertical-align: top;\n",
       "    }\n",
       "\n",
       "    .dataframe thead th {\n",
       "        text-align: right;\n",
       "    }\n",
       "</style>\n",
       "<table border=\"1\" class=\"dataframe\">\n",
       "  <thead>\n",
       "    <tr style=\"text-align: right;\">\n",
       "      <th></th>\n",
       "      <th>A</th>\n",
       "      <th>B</th>\n",
       "      <th>author_A</th>\n",
       "      <th>author_B</th>\n",
       "      <th>link_A</th>\n",
       "      <th>link_B</th>\n",
       "      <th>article_A</th>\n",
       "      <th>article_B</th>\n",
       "      <th>c_20</th>\n",
       "      <th>lcs_word</th>\n",
       "      <th>curtailment_prob</th>\n",
       "    </tr>\n",
       "  </thead>\n",
       "  <tbody>\n",
       "    <tr>\n",
       "      <th>0</th>\n",
       "      <td>304</td>\n",
       "      <td>606</td>\n",
       "      <td>Kawandeep Virdee</td>\n",
       "      <td>Marley K.</td>\n",
       "      <td>https://medium.com/@whichlight/anxieties-affir...</td>\n",
       "      <td>https://medium.com/@marleyk/going-from-have-to...</td>\n",
       "      <td>Anxieties &amp; Affirmations During the Coronaviru...</td>\n",
       "      <td>Going From Have to Have Not During The Coronav...</td>\n",
       "      <td>0.061538</td>\n",
       "      <td>0.527473</td>\n",
       "      <td>0.915797</td>\n",
       "    </tr>\n",
       "    <tr>\n",
       "      <th>1</th>\n",
       "      <td>304</td>\n",
       "      <td>915</td>\n",
       "      <td>Kawandeep Virdee</td>\n",
       "      <td>Tomas Pueyo</td>\n",
       "      <td>https://medium.com/@whichlight/anxieties-affir...</td>\n",
       "      <td>https://medium.com/@tomaspueyo/coronavirus-how...</td>\n",
       "      <td>Anxieties &amp; Affirmations During the Coronaviru...</td>\n",
       "      <td>Coronavirus: How to Do Testing and Contact Tra...</td>\n",
       "      <td>0.061538</td>\n",
       "      <td>0.516484</td>\n",
       "      <td>0.907947</td>\n",
       "    </tr>\n",
       "    <tr>\n",
       "      <th>2</th>\n",
       "      <td>304</td>\n",
       "      <td>448</td>\n",
       "      <td>Kawandeep Virdee</td>\n",
       "      <td>Jim Scheinman</td>\n",
       "      <td>https://medium.com/@whichlight/anxieties-affir...</td>\n",
       "      <td>https://medium.com/@jimscheinman/hope-after-th...</td>\n",
       "      <td>Anxieties &amp; Affirmations During the Coronaviru...</td>\n",
       "      <td>Hope after the Coronavirus Pandemic: Are These...</td>\n",
       "      <td>0.061538</td>\n",
       "      <td>0.516484</td>\n",
       "      <td>0.907947</td>\n",
       "    </tr>\n",
       "    <tr>\n",
       "      <th>3</th>\n",
       "      <td>304</td>\n",
       "      <td>421</td>\n",
       "      <td>Kawandeep Virdee</td>\n",
       "      <td>Tomas Pueyo</td>\n",
       "      <td>https://medium.com/@whichlight/anxieties-affir...</td>\n",
       "      <td>https://medium.com/@tomaspueyo/coronavirus-pre...</td>\n",
       "      <td>Anxieties &amp; Affirmations During the Coronaviru...</td>\n",
       "      <td>Coronavirus: Prevent Seeding and Spreading - T...</td>\n",
       "      <td>0.061538</td>\n",
       "      <td>0.505495</td>\n",
       "      <td>0.899446</td>\n",
       "    </tr>\n",
       "    <tr>\n",
       "      <th>4</th>\n",
       "      <td>304</td>\n",
       "      <td>350</td>\n",
       "      <td>Kawandeep Virdee</td>\n",
       "      <td>Marta Brzosko</td>\n",
       "      <td>https://medium.com/@whichlight/anxieties-affir...</td>\n",
       "      <td>https://medium.com/@martabrzosko/what-if-the-c...</td>\n",
       "      <td>Anxieties &amp; Affirmations During the Coronaviru...</td>\n",
       "      <td>What If The Coronavirus Is An Opportunity? - M...</td>\n",
       "      <td>0.061538</td>\n",
       "      <td>0.505495</td>\n",
       "      <td>0.899446</td>\n",
       "    </tr>\n",
       "  </tbody>\n",
       "</table>\n",
       "</div>"
      ],
      "text/plain": [
       "     A    B          author_A       author_B  \\\n",
       "0  304  606  Kawandeep Virdee      Marley K.   \n",
       "1  304  915  Kawandeep Virdee    Tomas Pueyo   \n",
       "2  304  448  Kawandeep Virdee  Jim Scheinman   \n",
       "3  304  421  Kawandeep Virdee    Tomas Pueyo   \n",
       "4  304  350  Kawandeep Virdee  Marta Brzosko   \n",
       "\n",
       "                                              link_A  \\\n",
       "0  https://medium.com/@whichlight/anxieties-affir...   \n",
       "1  https://medium.com/@whichlight/anxieties-affir...   \n",
       "2  https://medium.com/@whichlight/anxieties-affir...   \n",
       "3  https://medium.com/@whichlight/anxieties-affir...   \n",
       "4  https://medium.com/@whichlight/anxieties-affir...   \n",
       "\n",
       "                                              link_B  \\\n",
       "0  https://medium.com/@marleyk/going-from-have-to...   \n",
       "1  https://medium.com/@tomaspueyo/coronavirus-how...   \n",
       "2  https://medium.com/@jimscheinman/hope-after-th...   \n",
       "3  https://medium.com/@tomaspueyo/coronavirus-pre...   \n",
       "4  https://medium.com/@martabrzosko/what-if-the-c...   \n",
       "\n",
       "                                           article_A  \\\n",
       "0  Anxieties & Affirmations During the Coronaviru...   \n",
       "1  Anxieties & Affirmations During the Coronaviru...   \n",
       "2  Anxieties & Affirmations During the Coronaviru...   \n",
       "3  Anxieties & Affirmations During the Coronaviru...   \n",
       "4  Anxieties & Affirmations During the Coronaviru...   \n",
       "\n",
       "                                           article_B      c_20  lcs_word  \\\n",
       "0  Going From Have to Have Not During The Coronav...  0.061538  0.527473   \n",
       "1  Coronavirus: How to Do Testing and Contact Tra...  0.061538  0.516484   \n",
       "2  Hope after the Coronavirus Pandemic: Are These...  0.061538  0.516484   \n",
       "3  Coronavirus: Prevent Seeding and Spreading - T...  0.061538  0.505495   \n",
       "4  What If The Coronavirus Is An Opportunity? - M...  0.061538  0.505495   \n",
       "\n",
       "   curtailment_prob  \n",
       "0          0.915797  \n",
       "1          0.907947  \n",
       "2          0.907947  \n",
       "3          0.899446  \n",
       "4          0.899446  "
      ]
     },
     "execution_count": 12,
     "metadata": {},
     "output_type": "execute_result"
    }
   ],
   "source": [
    "feature_matrix.head()"
   ]
  },
  {
   "cell_type": "markdown",
   "metadata": {},
   "source": [
    "# Investigating Further"
   ]
  },
  {
   "cell_type": "code",
   "execution_count": 13,
   "metadata": {},
   "outputs": [
    {
     "name": "stdout",
     "output_type": "stream",
     "text": [
      "Articles for suspect 0\n",
      "https://medium.com/@whichlight/anxieties-affirmations-during-the-coronavirus-68cf0c84389e?source=search_post\n",
      "https://medium.com/@marleyk/going-from-have-to-have-not-during-the-coronavirus-9d4f3a8ef4be?source=search_post\n",
      "\n",
      "\n",
      "Articles for suspect 1\n",
      "https://medium.com/@whichlight/anxieties-affirmations-during-the-coronavirus-68cf0c84389e?source=search_post\n",
      "https://medium.com/@tomaspueyo/coronavirus-how-to-do-testing-and-contact-tracing-bde85b64072e?source=search_post\n",
      "\n",
      "\n",
      "Articles for suspect 2\n",
      "https://medium.com/@whichlight/anxieties-affirmations-during-the-coronavirus-68cf0c84389e?source=search_post\n",
      "https://medium.com/@jimscheinman/hope-after-the-coronavirus-pandemic-are-these-10-new-consumer-behaviors-here-to-stay-cafa2d76981b?source=search_post\n",
      "\n",
      "\n",
      "Articles for suspect 3\n",
      "https://medium.com/@whichlight/anxieties-affirmations-during-the-coronavirus-68cf0c84389e?source=search_post\n",
      "https://medium.com/@tomaspueyo/coronavirus-prevent-seeding-and-spreading-e84ed405e37d?source=search_post\n",
      "\n",
      "\n",
      "Articles for suspect 4\n",
      "https://medium.com/@whichlight/anxieties-affirmations-during-the-coronavirus-68cf0c84389e?source=search_post\n",
      "https://medium.com/@martabrzosko/what-if-the-coronavirus-is-an-opportunity-236816d77571?source=search_post\n",
      "\n",
      "\n"
     ]
    }
   ],
   "source": [
    "for idx in range(5):\n",
    "    print(f\"Articles for suspect {idx}\")\n",
    "    print(feature_matrix.loc[idx, 'link_A'])\n",
    "    print(feature_matrix.loc[idx, 'link_B'])\n",
    "    print('\\n')"
   ]
  },
  {
   "cell_type": "code",
   "execution_count": 14,
   "metadata": {},
   "outputs": [
    {
     "data": {
      "text/plain": [
       "91"
      ]
     },
     "execution_count": 14,
     "metadata": {},
     "output_type": "execute_result"
    }
   ],
   "source": [
    "len(feature_matrix.loc[0, 'article_A'].split())"
   ]
  },
  {
   "cell_type": "code",
   "execution_count": 15,
   "metadata": {},
   "outputs": [],
   "source": [
    "def word_count(article):\n",
    "    return len(article.split())"
   ]
  },
  {
   "cell_type": "code",
   "execution_count": 25,
   "metadata": {},
   "outputs": [],
   "source": [
    "feature_matrix['word_count'] = feature_matrix['article_A'].map(word_count)"
   ]
  },
  {
   "cell_type": "code",
   "execution_count": 30,
   "metadata": {},
   "outputs": [],
   "source": [
    "feature_matrix = feature_matrix.loc[feature_matrix['word_count'] > 300].reset_index(drop = True)"
   ]
  },
  {
   "cell_type": "code",
   "execution_count": 31,
   "metadata": {},
   "outputs": [
    {
     "data": {
      "text/html": [
       "<div>\n",
       "<style scoped>\n",
       "    .dataframe tbody tr th:only-of-type {\n",
       "        vertical-align: middle;\n",
       "    }\n",
       "\n",
       "    .dataframe tbody tr th {\n",
       "        vertical-align: top;\n",
       "    }\n",
       "\n",
       "    .dataframe thead th {\n",
       "        text-align: right;\n",
       "    }\n",
       "</style>\n",
       "<table border=\"1\" class=\"dataframe\">\n",
       "  <thead>\n",
       "    <tr style=\"text-align: right;\">\n",
       "      <th></th>\n",
       "      <th>A</th>\n",
       "      <th>B</th>\n",
       "      <th>author_A</th>\n",
       "      <th>author_B</th>\n",
       "      <th>link_A</th>\n",
       "      <th>link_B</th>\n",
       "      <th>article_A</th>\n",
       "      <th>article_B</th>\n",
       "      <th>c_20</th>\n",
       "      <th>lcs_word</th>\n",
       "      <th>curtailment_prob</th>\n",
       "      <th>word_count</th>\n",
       "    </tr>\n",
       "  </thead>\n",
       "  <tbody>\n",
       "    <tr>\n",
       "      <th>0</th>\n",
       "      <td>849</td>\n",
       "      <td>915</td>\n",
       "      <td>FOIN Official</td>\n",
       "      <td>Tomas Pueyo</td>\n",
       "      <td>https://medium.com/@foiniocommunitiy/foin-and-...</td>\n",
       "      <td>https://medium.com/@tomaspueyo/coronavirus-how...</td>\n",
       "      <td>FOIN and Coronavirus outbreak - FOIN Official ...</td>\n",
       "      <td>Coronavirus: How to Do Testing and Contact Tra...</td>\n",
       "      <td>0.011494</td>\n",
       "      <td>0.461538</td>\n",
       "      <td>0.798200</td>\n",
       "      <td>364</td>\n",
       "    </tr>\n",
       "    <tr>\n",
       "      <th>1</th>\n",
       "      <td>55</td>\n",
       "      <td>282</td>\n",
       "      <td>Dana G Smith</td>\n",
       "      <td>Ed Yong</td>\n",
       "      <td>https://coronavirus.medium.com/top-5-coronavir...</td>\n",
       "      <td>https://medium.com/the-atlantic/why-the-corona...</td>\n",
       "      <td>Top 5 Coronavirus Resources - Medium Coronavir...</td>\n",
       "      <td>Why the Coronavirus Is So Confusing - The Atla...</td>\n",
       "      <td>0.023102</td>\n",
       "      <td>0.434921</td>\n",
       "      <td>0.775028</td>\n",
       "      <td>315</td>\n",
       "    </tr>\n",
       "    <tr>\n",
       "      <th>2</th>\n",
       "      <td>70</td>\n",
       "      <td>169</td>\n",
       "      <td>David Paul Kirkpatrick</td>\n",
       "      <td>Florin Badita</td>\n",
       "      <td>https://medium.com/@davidpkirkpatrick/why-are-...</td>\n",
       "      <td>https://medium.com/@baditaflorin/why-some-of-u...</td>\n",
       "      <td>Why Are We Ignoring Farr’s Law of Epidemics? C...</td>\n",
       "      <td>Why some of us will die — A look into Coronavi...</td>\n",
       "      <td>0.021333</td>\n",
       "      <td>0.429306</td>\n",
       "      <td>0.763499</td>\n",
       "      <td>389</td>\n",
       "    </tr>\n",
       "    <tr>\n",
       "      <th>3</th>\n",
       "      <td>84</td>\n",
       "      <td>169</td>\n",
       "      <td>Michael Laitman</td>\n",
       "      <td>Florin Badita</td>\n",
       "      <td>https://medium.com/@michaellaitman/when-will-t...</td>\n",
       "      <td>https://medium.com/@baditaflorin/why-some-of-u...</td>\n",
       "      <td>When Will the Coronavirus Pandemic End? - Mich...</td>\n",
       "      <td>Why some of us will die — A look into Coronavi...</td>\n",
       "      <td>0.014028</td>\n",
       "      <td>0.434951</td>\n",
       "      <td>0.761356</td>\n",
       "      <td>515</td>\n",
       "    </tr>\n",
       "    <tr>\n",
       "      <th>4</th>\n",
       "      <td>849</td>\n",
       "      <td>872</td>\n",
       "      <td>FOIN Official</td>\n",
       "      <td>Tomas Pueyo</td>\n",
       "      <td>https://medium.com/@foiniocommunitiy/foin-and-...</td>\n",
       "      <td>https://medium.com/@tomaspueyo/coronavirus-the...</td>\n",
       "      <td>FOIN and Coronavirus outbreak - FOIN Official ...</td>\n",
       "      <td>Coronavirus: The Hammer and the Dance - Tomas ...</td>\n",
       "      <td>0.011494</td>\n",
       "      <td>0.436813</td>\n",
       "      <td>0.760453</td>\n",
       "      <td>364</td>\n",
       "    </tr>\n",
       "  </tbody>\n",
       "</table>\n",
       "</div>"
      ],
      "text/plain": [
       "     A    B                author_A       author_B  \\\n",
       "0  849  915           FOIN Official    Tomas Pueyo   \n",
       "1   55  282            Dana G Smith        Ed Yong   \n",
       "2   70  169  David Paul Kirkpatrick  Florin Badita   \n",
       "3   84  169         Michael Laitman  Florin Badita   \n",
       "4  849  872           FOIN Official    Tomas Pueyo   \n",
       "\n",
       "                                              link_A  \\\n",
       "0  https://medium.com/@foiniocommunitiy/foin-and-...   \n",
       "1  https://coronavirus.medium.com/top-5-coronavir...   \n",
       "2  https://medium.com/@davidpkirkpatrick/why-are-...   \n",
       "3  https://medium.com/@michaellaitman/when-will-t...   \n",
       "4  https://medium.com/@foiniocommunitiy/foin-and-...   \n",
       "\n",
       "                                              link_B  \\\n",
       "0  https://medium.com/@tomaspueyo/coronavirus-how...   \n",
       "1  https://medium.com/the-atlantic/why-the-corona...   \n",
       "2  https://medium.com/@baditaflorin/why-some-of-u...   \n",
       "3  https://medium.com/@baditaflorin/why-some-of-u...   \n",
       "4  https://medium.com/@tomaspueyo/coronavirus-the...   \n",
       "\n",
       "                                           article_A  \\\n",
       "0  FOIN and Coronavirus outbreak - FOIN Official ...   \n",
       "1  Top 5 Coronavirus Resources - Medium Coronavir...   \n",
       "2  Why Are We Ignoring Farr’s Law of Epidemics? C...   \n",
       "3  When Will the Coronavirus Pandemic End? - Mich...   \n",
       "4  FOIN and Coronavirus outbreak - FOIN Official ...   \n",
       "\n",
       "                                           article_B      c_20  lcs_word  \\\n",
       "0  Coronavirus: How to Do Testing and Contact Tra...  0.011494  0.461538   \n",
       "1  Why the Coronavirus Is So Confusing - The Atla...  0.023102  0.434921   \n",
       "2  Why some of us will die — A look into Coronavi...  0.021333  0.429306   \n",
       "3  Why some of us will die — A look into Coronavi...  0.014028  0.434951   \n",
       "4  Coronavirus: The Hammer and the Dance - Tomas ...  0.011494  0.436813   \n",
       "\n",
       "   curtailment_prob  word_count  \n",
       "0          0.798200         364  \n",
       "1          0.775028         315  \n",
       "2          0.763499         389  \n",
       "3          0.761356         515  \n",
       "4          0.760453         364  "
      ]
     },
     "execution_count": 31,
     "metadata": {},
     "output_type": "execute_result"
    }
   ],
   "source": [
    "feature_matrix.head()"
   ]
  },
  {
   "cell_type": "code",
   "execution_count": 32,
   "metadata": {},
   "outputs": [
    {
     "name": "stdout",
     "output_type": "stream",
     "text": [
      "Articles for suspect 0\n",
      "https://medium.com/@foiniocommunitiy/foin-and-coronavirus-outbreak-2840f4a08a38?source=search_post\n",
      "https://medium.com/@tomaspueyo/coronavirus-how-to-do-testing-and-contact-tracing-bde85b64072e?source=search_post\n",
      "\n",
      "\n",
      "Articles for suspect 1\n",
      "https://coronavirus.medium.com/top-5-coronavirus-resources-6790711e251c?source=search_post\n",
      "https://medium.com/the-atlantic/why-the-coronavirus-is-so-confusing-20cf8f8995cb?source=search_post\n",
      "\n",
      "\n",
      "Articles for suspect 2\n",
      "https://medium.com/@davidpkirkpatrick/why-are-we-ignoring-farrs-law-of-epidemics-coronavirus-should-be-gone-by-summer-7782f3622c3a?source=search_post\n",
      "https://medium.com/@baditaflorin/why-some-of-us-will-die-a-look-into-the-next-2020-pandemic-coronavirus-covid-19-b734513e95a0?source=search_post\n",
      "\n",
      "\n",
      "Articles for suspect 3\n",
      "https://medium.com/@michaellaitman/when-will-the-coronavirus-pandemic-end-86470c96a7cb?source=search_post\n",
      "https://medium.com/@baditaflorin/why-some-of-us-will-die-a-look-into-the-next-2020-pandemic-coronavirus-covid-19-b734513e95a0?source=search_post\n",
      "\n",
      "\n",
      "Articles for suspect 4\n",
      "https://medium.com/@foiniocommunitiy/foin-and-coronavirus-outbreak-2840f4a08a38?source=search_post\n",
      "https://medium.com/@tomaspueyo/coronavirus-the-hammer-and-the-dance-be9337092b56?source=search_post---------1\n",
      "\n",
      "\n"
     ]
    }
   ],
   "source": [
    "for idx in range(5):\n",
    "    print(f\"Articles for suspect {idx}\")\n",
    "    print(feature_matrix.loc[idx, 'link_A'])\n",
    "    print(feature_matrix.loc[idx, 'link_B'])\n",
    "    print('\\n')"
   ]
  },
  {
   "cell_type": "code",
   "execution_count": 34,
   "metadata": {},
   "outputs": [
    {
     "data": {
      "text/html": [
       "<div>\n",
       "<style scoped>\n",
       "    .dataframe tbody tr th:only-of-type {\n",
       "        vertical-align: middle;\n",
       "    }\n",
       "\n",
       "    .dataframe tbody tr th {\n",
       "        vertical-align: top;\n",
       "    }\n",
       "\n",
       "    .dataframe thead th {\n",
       "        text-align: right;\n",
       "    }\n",
       "</style>\n",
       "<table border=\"1\" class=\"dataframe\">\n",
       "  <thead>\n",
       "    <tr style=\"text-align: right;\">\n",
       "      <th></th>\n",
       "      <th>A</th>\n",
       "      <th>B</th>\n",
       "      <th>author_A</th>\n",
       "      <th>author_B</th>\n",
       "      <th>link_A</th>\n",
       "      <th>link_B</th>\n",
       "      <th>article_A</th>\n",
       "      <th>article_B</th>\n",
       "      <th>c_20</th>\n",
       "      <th>lcs_word</th>\n",
       "      <th>curtailment_prob</th>\n",
       "      <th>word_count</th>\n",
       "    </tr>\n",
       "  </thead>\n",
       "  <tbody>\n",
       "    <tr>\n",
       "      <th>21967</th>\n",
       "      <td>169</td>\n",
       "      <td>630</td>\n",
       "      <td>Florin Badita</td>\n",
       "      <td>Sequoia</td>\n",
       "      <td>https://medium.com/@baditaflorin/why-some-of-u...</td>\n",
       "      <td>https://medium.com/sequoia-capital/coronavirus...</td>\n",
       "      <td>Why some of us will die — A look into Coronavi...</td>\n",
       "      <td>Coronavirus: The Black Swan of 2020 - Sequoia ...</td>\n",
       "      <td>0.078884</td>\n",
       "      <td>0.083867</td>\n",
       "      <td>0.309444</td>\n",
       "      <td>12484</td>\n",
       "    </tr>\n",
       "    <tr>\n",
       "      <th>199</th>\n",
       "      <td>213</td>\n",
       "      <td>270</td>\n",
       "      <td>Zoe Naz</td>\n",
       "      <td>sarah james</td>\n",
       "      <td>https://medium.com/slackjaw/the-millennial-res...</td>\n",
       "      <td>https://medium.com/slackjaw/are-you-trying-to-...</td>\n",
       "      <td>The Millennial Resilience Test: Will You Survi...</td>\n",
       "      <td>Are You Trying To Escape Reality By Watching T...</td>\n",
       "      <td>0.074699</td>\n",
       "      <td>0.294664</td>\n",
       "      <td>0.605308</td>\n",
       "      <td>431</td>\n",
       "    </tr>\n",
       "    <tr>\n",
       "      <th>263</th>\n",
       "      <td>213</td>\n",
       "      <td>217</td>\n",
       "      <td>Zoe Naz</td>\n",
       "      <td>Dan Ryan</td>\n",
       "      <td>https://medium.com/slackjaw/the-millennial-res...</td>\n",
       "      <td>https://medium.com/slackjaw/coronavirus-porn-6...</td>\n",
       "      <td>The Millennial Resilience Test: Will You Survi...</td>\n",
       "      <td>Coronavirus Porn - Slackjaw - MediumOpen in ap...</td>\n",
       "      <td>0.074699</td>\n",
       "      <td>0.287703</td>\n",
       "      <td>0.590425</td>\n",
       "      <td>431</td>\n",
       "    </tr>\n",
       "    <tr>\n",
       "      <th>221</th>\n",
       "      <td>306</td>\n",
       "      <td>947</td>\n",
       "      <td>Indi Samarajiva</td>\n",
       "      <td>Roxanne Khamsi</td>\n",
       "      <td>https://elemental.medium.com/forget-face-masks...</td>\n",
       "      <td>https://elemental.medium.com/what-it-takes-to-...</td>\n",
       "      <td>Why Face Masks Won't Protect You Against Coron...</td>\n",
       "      <td>What Scientists Are Doing to Kill the Coronavi...</td>\n",
       "      <td>0.073559</td>\n",
       "      <td>0.293204</td>\n",
       "      <td>0.599880</td>\n",
       "      <td>515</td>\n",
       "    </tr>\n",
       "    <tr>\n",
       "      <th>840</th>\n",
       "      <td>306</td>\n",
       "      <td>780</td>\n",
       "      <td>Indi Samarajiva</td>\n",
       "      <td>Robert Roy Britt</td>\n",
       "      <td>https://elemental.medium.com/forget-face-masks...</td>\n",
       "      <td>https://elemental.medium.com/what-the-coronavi...</td>\n",
       "      <td>Why Face Masks Won't Protect You Against Coron...</td>\n",
       "      <td>That Picture Of the Coronavirus Isn't Quite Ac...</td>\n",
       "      <td>0.069583</td>\n",
       "      <td>0.266019</td>\n",
       "      <td>0.532306</td>\n",
       "      <td>515</td>\n",
       "    </tr>\n",
       "    <tr>\n",
       "      <th>...</th>\n",
       "      <td>...</td>\n",
       "      <td>...</td>\n",
       "      <td>...</td>\n",
       "      <td>...</td>\n",
       "      <td>...</td>\n",
       "      <td>...</td>\n",
       "      <td>...</td>\n",
       "      <td>...</td>\n",
       "      <td>...</td>\n",
       "      <td>...</td>\n",
       "      <td>...</td>\n",
       "      <td>...</td>\n",
       "    </tr>\n",
       "    <tr>\n",
       "      <th>191128</th>\n",
       "      <td>457</td>\n",
       "      <td>642</td>\n",
       "      <td>Courtney Rubin</td>\n",
       "      <td>Robert Roy Britt</td>\n",
       "      <td>https://marker.medium.com/i-turned-down-a-4-mi...</td>\n",
       "      <td>https://elemental.medium.com/coronavirus-might...</td>\n",
       "      <td>I Turned Down a $4 Million Term Sheet. Then th...</td>\n",
       "      <td>Coronavirus Might Attack the Brain, Too - Elem...</td>\n",
       "      <td>0.000000</td>\n",
       "      <td>0.127742</td>\n",
       "      <td>0.290247</td>\n",
       "      <td>775</td>\n",
       "    </tr>\n",
       "    <tr>\n",
       "      <th>191127</th>\n",
       "      <td>457</td>\n",
       "      <td>799</td>\n",
       "      <td>Courtney Rubin</td>\n",
       "      <td>Kelli María Korducki</td>\n",
       "      <td>https://marker.medium.com/i-turned-down-a-4-mi...</td>\n",
       "      <td>https://forge.medium.com/my-coronavirus-optimi...</td>\n",
       "      <td>I Turned Down a $4 Million Term Sheet. Then th...</td>\n",
       "      <td>Coronavirus: The Case for Optimism During Cris...</td>\n",
       "      <td>0.000000</td>\n",
       "      <td>0.127742</td>\n",
       "      <td>0.290247</td>\n",
       "      <td>775</td>\n",
       "    </tr>\n",
       "    <tr>\n",
       "      <th>191126</th>\n",
       "      <td>457</td>\n",
       "      <td>854</td>\n",
       "      <td>Courtney Rubin</td>\n",
       "      <td>Ayala Laufer-Cahana M.D.</td>\n",
       "      <td>https://marker.medium.com/i-turned-down-a-4-mi...</td>\n",
       "      <td>https://medium.com/@DrAyala/coronavirus-outbre...</td>\n",
       "      <td>I Turned Down a $4 Million Term Sheet. Then th...</td>\n",
       "      <td>Coronavirus Outbreak: Facts Help Fight Panic -...</td>\n",
       "      <td>0.000000</td>\n",
       "      <td>0.127742</td>\n",
       "      <td>0.290247</td>\n",
       "      <td>775</td>\n",
       "    </tr>\n",
       "    <tr>\n",
       "      <th>191125</th>\n",
       "      <td>827</td>\n",
       "      <td>832</td>\n",
       "      <td>Herbert Dyer, Jr.</td>\n",
       "      <td>David Siegel</td>\n",
       "      <td>https://medium.com/@hdyerjr/white-supremacist-...</td>\n",
       "      <td>https://medium.com/datadriveninvestor/coronavi...</td>\n",
       "      <td>Domestic Terrorist Killed By FBI Before Settin...</td>\n",
       "      <td>Coronavirus Update: What to Do NOW - Data Driv...</td>\n",
       "      <td>0.000000</td>\n",
       "      <td>0.127743</td>\n",
       "      <td>0.290248</td>\n",
       "      <td>1777</td>\n",
       "    </tr>\n",
       "    <tr>\n",
       "      <th>438370</th>\n",
       "      <td>41</td>\n",
       "      <td>756</td>\n",
       "      <td>Max Balbach</td>\n",
       "      <td>Zafer Ayan</td>\n",
       "      <td>https://medium.com/@maxbalbach/coronavirus-war...</td>\n",
       "      <td>https://medium.com/@ZaferAyan/react-native-ile...</td>\n",
       "      <td>Coronavirus: Warum Du jetzt handeln musst - Ma...</td>\n",
       "      <td>React Native ile Coronavirus verileri bir web ...</td>\n",
       "      <td>0.000000</td>\n",
       "      <td>0.001206</td>\n",
       "      <td>0.267631</td>\n",
       "      <td>5806</td>\n",
       "    </tr>\n",
       "  </tbody>\n",
       "</table>\n",
       "<p>438371 rows × 12 columns</p>\n",
       "</div>"
      ],
      "text/plain": [
       "          A    B           author_A                  author_B  \\\n",
       "21967   169  630      Florin Badita                   Sequoia   \n",
       "199     213  270            Zoe Naz               sarah james   \n",
       "263     213  217            Zoe Naz                  Dan Ryan   \n",
       "221     306  947    Indi Samarajiva            Roxanne Khamsi   \n",
       "840     306  780    Indi Samarajiva          Robert Roy Britt   \n",
       "...     ...  ...                ...                       ...   \n",
       "191128  457  642     Courtney Rubin          Robert Roy Britt   \n",
       "191127  457  799     Courtney Rubin      Kelli María Korducki   \n",
       "191126  457  854     Courtney Rubin  Ayala Laufer-Cahana M.D.   \n",
       "191125  827  832  Herbert Dyer, Jr.              David Siegel   \n",
       "438370   41  756        Max Balbach                Zafer Ayan   \n",
       "\n",
       "                                                   link_A  \\\n",
       "21967   https://medium.com/@baditaflorin/why-some-of-u...   \n",
       "199     https://medium.com/slackjaw/the-millennial-res...   \n",
       "263     https://medium.com/slackjaw/the-millennial-res...   \n",
       "221     https://elemental.medium.com/forget-face-masks...   \n",
       "840     https://elemental.medium.com/forget-face-masks...   \n",
       "...                                                   ...   \n",
       "191128  https://marker.medium.com/i-turned-down-a-4-mi...   \n",
       "191127  https://marker.medium.com/i-turned-down-a-4-mi...   \n",
       "191126  https://marker.medium.com/i-turned-down-a-4-mi...   \n",
       "191125  https://medium.com/@hdyerjr/white-supremacist-...   \n",
       "438370  https://medium.com/@maxbalbach/coronavirus-war...   \n",
       "\n",
       "                                                   link_B  \\\n",
       "21967   https://medium.com/sequoia-capital/coronavirus...   \n",
       "199     https://medium.com/slackjaw/are-you-trying-to-...   \n",
       "263     https://medium.com/slackjaw/coronavirus-porn-6...   \n",
       "221     https://elemental.medium.com/what-it-takes-to-...   \n",
       "840     https://elemental.medium.com/what-the-coronavi...   \n",
       "...                                                   ...   \n",
       "191128  https://elemental.medium.com/coronavirus-might...   \n",
       "191127  https://forge.medium.com/my-coronavirus-optimi...   \n",
       "191126  https://medium.com/@DrAyala/coronavirus-outbre...   \n",
       "191125  https://medium.com/datadriveninvestor/coronavi...   \n",
       "438370  https://medium.com/@ZaferAyan/react-native-ile...   \n",
       "\n",
       "                                                article_A  \\\n",
       "21967   Why some of us will die — A look into Coronavi...   \n",
       "199     The Millennial Resilience Test: Will You Survi...   \n",
       "263     The Millennial Resilience Test: Will You Survi...   \n",
       "221     Why Face Masks Won't Protect You Against Coron...   \n",
       "840     Why Face Masks Won't Protect You Against Coron...   \n",
       "...                                                   ...   \n",
       "191128  I Turned Down a $4 Million Term Sheet. Then th...   \n",
       "191127  I Turned Down a $4 Million Term Sheet. Then th...   \n",
       "191126  I Turned Down a $4 Million Term Sheet. Then th...   \n",
       "191125  Domestic Terrorist Killed By FBI Before Settin...   \n",
       "438370  Coronavirus: Warum Du jetzt handeln musst - Ma...   \n",
       "\n",
       "                                                article_B      c_20  lcs_word  \\\n",
       "21967   Coronavirus: The Black Swan of 2020 - Sequoia ...  0.078884  0.083867   \n",
       "199     Are You Trying To Escape Reality By Watching T...  0.074699  0.294664   \n",
       "263     Coronavirus Porn - Slackjaw - MediumOpen in ap...  0.074699  0.287703   \n",
       "221     What Scientists Are Doing to Kill the Coronavi...  0.073559  0.293204   \n",
       "840     That Picture Of the Coronavirus Isn't Quite Ac...  0.069583  0.266019   \n",
       "...                                                   ...       ...       ...   \n",
       "191128  Coronavirus Might Attack the Brain, Too - Elem...  0.000000  0.127742   \n",
       "191127  Coronavirus: The Case for Optimism During Cris...  0.000000  0.127742   \n",
       "191126  Coronavirus Outbreak: Facts Help Fight Panic -...  0.000000  0.127742   \n",
       "191125  Coronavirus Update: What to Do NOW - Data Driv...  0.000000  0.127743   \n",
       "438370  React Native ile Coronavirus verileri bir web ...  0.000000  0.001206   \n",
       "\n",
       "        curtailment_prob  word_count  \n",
       "21967           0.309444       12484  \n",
       "199             0.605308         431  \n",
       "263             0.590425         431  \n",
       "221             0.599880         515  \n",
       "840             0.532306         515  \n",
       "...                  ...         ...  \n",
       "191128          0.290247         775  \n",
       "191127          0.290247         775  \n",
       "191126          0.290247         775  \n",
       "191125          0.290248        1777  \n",
       "438370          0.267631        5806  \n",
       "\n",
       "[438371 rows x 12 columns]"
      ]
     },
     "execution_count": 34,
     "metadata": {},
     "output_type": "execute_result"
    }
   ],
   "source": [
    "feature_matrix.sort_values('c_20', ascending = False)"
   ]
  },
  {
   "cell_type": "code",
   "execution_count": null,
   "metadata": {},
   "outputs": [],
   "source": []
  },
  {
   "cell_type": "code",
   "execution_count": null,
   "metadata": {},
   "outputs": [],
   "source": []
  },
  {
   "cell_type": "markdown",
   "metadata": {},
   "source": [
    "Something wierd is going on with Rickyyuan lets ignore him"
   ]
  },
  {
   "cell_type": "code",
   "execution_count": null,
   "metadata": {},
   "outputs": [],
   "source": [
    "valid_comparison = feature_matrix.loc[~feature_matrix['author_A'].isin(['Rickyyuan'])].reset_index(drop = True)"
   ]
  },
  {
   "cell_type": "code",
   "execution_count": null,
   "metadata": {},
   "outputs": [],
   "source": []
  },
  {
   "cell_type": "code",
   "execution_count": null,
   "metadata": {},
   "outputs": [],
   "source": [
    "for idx in range(5):\n",
    "    print(f\"Articles for suspect {idx}\")\n",
    "    print(valid_comparison.loc[idx, 'link_A'])\n",
    "    print(valid_comparison.loc[idx, 'link_B'])\n",
    "    print('\\n')"
   ]
  },
  {
   "cell_type": "markdown",
   "metadata": {},
   "source": [
    "still getting a load of short chinese articles "
   ]
  },
  {
   "cell_type": "code",
   "execution_count": null,
   "metadata": {},
   "outputs": [],
   "source": [
    "valid_comparison.head()"
   ]
  },
  {
   "cell_type": "code",
   "execution_count": null,
   "metadata": {},
   "outputs": [],
   "source": [
    "valid_comparison = valid_comparison.loc[~feature_matrix['author_A'].isin(['Rickyyuan', 'Yeh James', 'takkii', 'Jackie Lo', 'Morris Tai', 'Unitech'])].reset_index(drop = True)\n",
    "valid_comparison.head()"
   ]
  },
  {
   "cell_type": "code",
   "execution_count": null,
   "metadata": {},
   "outputs": [],
   "source": [
    "for idx in range(5):\n",
    "    print(f\"Articles for suspect {idx}\")\n",
    "    print(valid_comparison.loc[idx, 'link_A'])\n",
    "    print(valid_comparison.loc[idx, 'link_B'])\n",
    "    print('\\n')"
   ]
  },
  {
   "cell_type": "code",
   "execution_count": null,
   "metadata": {},
   "outputs": [],
   "source": [
    "idx = 600\n",
    "valid_comparison.loc[idx, 'article_A']"
   ]
  },
  {
   "cell_type": "code",
   "execution_count": null,
   "metadata": {},
   "outputs": [],
   "source": [
    "valid_comparison.loc[idx, 'article_B']"
   ]
  },
  {
   "cell_type": "code",
   "execution_count": null,
   "metadata": {},
   "outputs": [],
   "source": [
    "import re\n",
    "re.search('Your journey starts here.How to Make this Moment the Turning Point', valid_comparison.loc[idx, 'article_B'])"
   ]
  },
  {
   "cell_type": "code",
   "execution_count": null,
   "metadata": {},
   "outputs": [],
   "source": [
    "valid_comparison['black_lives_A'] = valid_comparison['article_A'].str.contains('Your journey starts here.How to Make this Moment the Turning Point')\n",
    "valid_comparison['black_lives_B'] = valid_comparison['article_B'].str.contains('Your journey starts here.How to Make this Moment the Turning Point')"
   ]
  },
  {
   "cell_type": "code",
   "execution_count": null,
   "metadata": {},
   "outputs": [],
   "source": [
    "import numpy as np\n",
    "both_black_lives = (valid_comparison['black_lives_A'] is True) and (valid_comparison['black_lives_B'] is True)\n",
    "both_black_lives[:5]"
   ]
  },
  {
   "cell_type": "code",
   "execution_count": null,
   "metadata": {},
   "outputs": [],
   "source": [
    "print(valid_comparison.shape)\n",
    "valid_comparison = valid_comparison.loc[(valid_comparison['black_lives_A'] == False) & (valid_comparison['black_lives_A'] == False)].reset_index(drop = True)\n",
    "valid_comparison.shape"
   ]
  },
  {
   "cell_type": "code",
   "execution_count": null,
   "metadata": {},
   "outputs": [],
   "source": [
    "valid_comparison.head()"
   ]
  },
  {
   "cell_type": "code",
   "execution_count": null,
   "metadata": {},
   "outputs": [],
   "source": [
    "for idx in range(5):\n",
    "    print(f\"Articles for suspect {idx}\")\n",
    "    print(valid_comparison.loc[idx, 'link_A'])\n",
    "    print(valid_comparison.loc[idx, 'link_B'])\n",
    "    print('\\n')"
   ]
  },
  {
   "cell_type": "code",
   "execution_count": null,
   "metadata": {},
   "outputs": [],
   "source": []
  },
  {
   "cell_type": "markdown",
   "metadata": {},
   "source": [
    "# Most articles include the following text \n",
    "Your journey starts here.How to Make this Moment the Turning Point for Real ChangeMaintaining Professionalism In The Age of Black Death Is….A LotGENThe Psychopath in Chief5 Ways White People Can Take Action in Response to White and State-Sanctioned ViolenceAirbnbCrisp DmRandom ForestXgboostRegression"
   ]
  },
  {
   "cell_type": "code",
   "execution_count": null,
   "metadata": {},
   "outputs": [],
   "source": []
  },
  {
   "cell_type": "markdown",
   "metadata": {},
   "source": [
    "So we need to strip it out then go back to the drawing board"
   ]
  },
  {
   "cell_type": "code",
   "execution_count": null,
   "metadata": {},
   "outputs": [],
   "source": [
    "articles_clean = pickle.load(open(os.path.join(DATA_DIR, '_random_forest_articles_clean.p'), 'rb'))"
   ]
  },
  {
   "cell_type": "code",
   "execution_count": null,
   "metadata": {},
   "outputs": [],
   "source": [
    "type(articles_clean)"
   ]
  },
  {
   "cell_type": "code",
   "execution_count": null,
   "metadata": {},
   "outputs": [],
   "source": [
    "articles_clean.keys()"
   ]
  },
  {
   "cell_type": "code",
   "execution_count": null,
   "metadata": {},
   "outputs": [],
   "source": [
    "articles_clean['articles'][40]"
   ]
  },
  {
   "cell_type": "code",
   "execution_count": null,
   "metadata": {},
   "outputs": [],
   "source": []
  }
 ],
 "metadata": {
  "kernelspec": {
   "display_name": "Python 3",
   "language": "python",
   "name": "python3"
  },
  "language_info": {
   "codemirror_mode": {
    "name": "ipython",
    "version": 3
   },
   "file_extension": ".py",
   "mimetype": "text/x-python",
   "name": "python",
   "nbconvert_exporter": "python",
   "pygments_lexer": "ipython3",
   "version": "3.7.7"
  }
 },
 "nbformat": 4,
 "nbformat_minor": 4
}
