{
 "cells": [
  {
   "cell_type": "markdown",
   "metadata": {},
   "source": [
    "Add the dictory one level up to the sys path so we can find srv as per\n",
    "https://stackoverflow.com/a/4383597\n"
   ]
  },
  {
   "cell_type": "code",
   "execution_count": 1,
   "metadata": {},
   "outputs": [],
   "source": [
    "import sys\n",
    "sys.path.insert(1, '../') "
   ]
  },
  {
   "cell_type": "code",
   "execution_count": 2,
   "metadata": {},
   "outputs": [],
   "source": [
    "import pickle\n",
    "import os\n",
    "import numpy as np"
   ]
  },
  {
   "cell_type": "code",
   "execution_count": 3,
   "metadata": {},
   "outputs": [],
   "source": [
    "SEARCH_TERM = 'xgboost'\n",
    "SAVE_DIR = 'data'"
   ]
  },
  {
   "cell_type": "code",
   "execution_count": 4,
   "metadata": {},
   "outputs": [
    {
     "data": {
      "text/plain": [
       "'/home/d14xj1/repos/plagiarism_detection/medium'"
      ]
     },
     "execution_count": 4,
     "metadata": {},
     "output_type": "execute_result"
    }
   ],
   "source": [
    "os.getcwd()"
   ]
  },
  {
   "cell_type": "markdown",
   "metadata": {},
   "source": [
    "# Create Features"
   ]
  },
  {
   "cell_type": "code",
   "execution_count": 5,
   "metadata": {},
   "outputs": [],
   "source": [
    "from src.create_features import ngram_array, containment, calculate_containment"
   ]
  },
  {
   "cell_type": "code",
   "execution_count": 6,
   "metadata": {},
   "outputs": [],
   "source": [
    "# load data\n",
    "filename_clean_results = SEARCH_TERM.replace(' ', '_') +'_results_clean.p'  \n",
    "results = pickle.load(open(os.path.join(SAVE_DIR, filename_clean_results), \"rb\"))"
   ]
  },
  {
   "cell_type": "code",
   "execution_count": 7,
   "metadata": {},
   "outputs": [
    {
     "data": {
      "text/plain": [
       "dict_keys(['links_worked', 'articles', 'author', 'junk', 'links_failed'])"
      ]
     },
     "execution_count": 7,
     "metadata": {},
     "output_type": "execute_result"
    }
   ],
   "source": [
    "results.keys()"
   ]
  },
  {
   "cell_type": "code",
   "execution_count": 8,
   "metadata": {},
   "outputs": [
    {
     "data": {
      "text/plain": [
       "'xgboost_results_clean.p'"
      ]
     },
     "execution_count": 8,
     "metadata": {},
     "output_type": "execute_result"
    }
   ],
   "source": [
    "filename_clean_results"
   ]
  },
  {
   "cell_type": "code",
   "execution_count": 9,
   "metadata": {},
   "outputs": [
    {
     "data": {
      "text/plain": [
       "618"
      ]
     },
     "execution_count": 9,
     "metadata": {},
     "output_type": "execute_result"
    }
   ],
   "source": [
    "len(results['links_worked'])\n",
    "len(results['articles'])"
   ]
  },
  {
   "cell_type": "code",
   "execution_count": 10,
   "metadata": {},
   "outputs": [],
   "source": [
    "assert len(results['links_worked']) == len(results['articles']) == len(results['author']), 'links/articles/authors should all be same length'"
   ]
  },
  {
   "cell_type": "code",
   "execution_count": 11,
   "metadata": {},
   "outputs": [],
   "source": [
    "# create combinations to test\n",
    "import itertools\n",
    "import pandas as pd\n",
    "\n",
    "article_indices = list(range(len(results['articles'])))\n",
    "combinations = list(itertools.combinations(article_indices,  2))\n",
    "results_df = pd.DataFrame(combinations, columns = ['A', 'B'])"
   ]
  },
  {
   "cell_type": "code",
   "execution_count": 12,
   "metadata": {},
   "outputs": [
    {
     "data": {
      "text/plain": [
       "(190653, 2)"
      ]
     },
     "execution_count": 12,
     "metadata": {},
     "output_type": "execute_result"
    }
   ],
   "source": [
    "results_df.shape"
   ]
  },
  {
   "cell_type": "code",
   "execution_count": 13,
   "metadata": {},
   "outputs": [
    {
     "data": {
      "text/html": [
       "<div>\n",
       "<style scoped>\n",
       "    .dataframe tbody tr th:only-of-type {\n",
       "        vertical-align: middle;\n",
       "    }\n",
       "\n",
       "    .dataframe tbody tr th {\n",
       "        vertical-align: top;\n",
       "    }\n",
       "\n",
       "    .dataframe thead th {\n",
       "        text-align: right;\n",
       "    }\n",
       "</style>\n",
       "<table border=\"1\" class=\"dataframe\">\n",
       "  <thead>\n",
       "    <tr style=\"text-align: right;\">\n",
       "      <th></th>\n",
       "      <th>A</th>\n",
       "      <th>B</th>\n",
       "    </tr>\n",
       "  </thead>\n",
       "  <tbody>\n",
       "    <tr>\n",
       "      <th>0</th>\n",
       "      <td>0</td>\n",
       "      <td>1</td>\n",
       "    </tr>\n",
       "    <tr>\n",
       "      <th>1</th>\n",
       "      <td>0</td>\n",
       "      <td>2</td>\n",
       "    </tr>\n",
       "    <tr>\n",
       "      <th>2</th>\n",
       "      <td>0</td>\n",
       "      <td>3</td>\n",
       "    </tr>\n",
       "    <tr>\n",
       "      <th>3</th>\n",
       "      <td>0</td>\n",
       "      <td>4</td>\n",
       "    </tr>\n",
       "    <tr>\n",
       "      <th>4</th>\n",
       "      <td>0</td>\n",
       "      <td>5</td>\n",
       "    </tr>\n",
       "  </tbody>\n",
       "</table>\n",
       "</div>"
      ],
      "text/plain": [
       "   A  B\n",
       "0  0  1\n",
       "1  0  2\n",
       "2  0  3\n",
       "3  0  4\n",
       "4  0  5"
      ]
     },
     "execution_count": 13,
     "metadata": {},
     "output_type": "execute_result"
    }
   ],
   "source": [
    "results_df.head()"
   ]
  },
  {
   "cell_type": "code",
   "execution_count": 14,
   "metadata": {},
   "outputs": [],
   "source": [
    "# loop over rows and populate author\n",
    "n_rows = results_df.shape[0]\n",
    "author_A, author_B, link_A, link_B, article_A, article_B, article_pairs = [], [], [], [], [], [], []\n",
    "\n",
    "for row in range(n_rows):\n",
    "    author_A.append(results['author'][results_df.loc[row, 'A']])\n",
    "    author_B.append(results['author'][results_df.loc[row, 'B']])\n",
    "    link_A.append(results['links_worked'][results_df.loc[row, 'A']])\n",
    "    link_B.append(results['links_worked'][results_df.loc[row, 'B']])\n",
    "    article_A.append(results['articles'][results_df.loc[row, 'A']])\n",
    "    article_B.append(results['articles'][results_df.loc[row, 'B']])\n",
    "    article_pairs.append([results['articles'][results_df.loc[row, 'A']],\n",
    "                   results['articles'][results_df.loc[row, 'B']]])"
   ]
  },
  {
   "cell_type": "code",
   "execution_count": 15,
   "metadata": {},
   "outputs": [],
   "source": [
    "results_df['author_A'] = author_A\n",
    "results_df['author_B'] = author_B\n",
    "results_df['link_A'] = link_A\n",
    "results_df['link_B'] = link_B\n",
    "results_df['article_A'] = article_A\n",
    "results_df['article_B'] = article_B"
   ]
  },
  {
   "cell_type": "markdown",
   "metadata": {},
   "source": [
    "# Remove blanks"
   ]
  },
  {
   "cell_type": "code",
   "execution_count": 16,
   "metadata": {},
   "outputs": [],
   "source": [
    "# blank_idx = (results_df['author_A'] != 'Blank') & (results_df['author_B'] != 'Blank')\n"
   ]
  },
  {
   "cell_type": "code",
   "execution_count": 17,
   "metadata": {},
   "outputs": [],
   "source": [
    "# results_df = results_df[]"
   ]
  },
  {
   "cell_type": "code",
   "execution_count": null,
   "metadata": {},
   "outputs": [],
   "source": []
  },
  {
   "cell_type": "code",
   "execution_count": 18,
   "metadata": {},
   "outputs": [],
   "source": [
    "# results_df.shape"
   ]
  },
  {
   "cell_type": "code",
   "execution_count": 19,
   "metadata": {},
   "outputs": [],
   "source": [
    "def containment_wrapper(article_A, article_B, n_gram_choice = 20):\n",
    "    try:\n",
    "        containment = calculate_containment(article_A, article_B, n_gram_choice)\n",
    "    except:\n",
    "        print(f\"We couldn't calculate the containment for row {row}\")\n",
    "        containment = None\n",
    "    return containment"
   ]
  },
  {
   "cell_type": "code",
   "execution_count": 20,
   "metadata": {},
   "outputs": [],
   "source": [
    "import time"
   ]
  },
  {
   "cell_type": "code",
   "execution_count": 21,
   "metadata": {},
   "outputs": [],
   "source": [
    "results_df = results_df[:5000]\n",
    "article_pairs = article_pairs[:5000]"
   ]
  },
  {
   "cell_type": "markdown",
   "metadata": {},
   "source": [
    "# Using list comprehension"
   ]
  },
  {
   "cell_type": "code",
   "execution_count": 22,
   "metadata": {},
   "outputs": [
    {
     "name": "stderr",
     "output_type": "stream",
     "text": [
      "/home/d14xj1/repos/plagiarism_detection/medium/src/create_features.py:60: RuntimeWarning: invalid value encountered in long_scalars\n",
      "  containment_val =  intersection / answer_cnt\n"
     ]
    },
    {
     "name": "stdout",
     "output_type": "stream",
     "text": [
      "code ran in  33.3344 seconds\n",
      "CPU times: user 33.3 s, sys: 12.2 ms, total: 33.3 s\n",
      "Wall time: 33.3 s\n"
     ]
    }
   ],
   "source": [
    "%%time\n",
    "tic = time.perf_counter()\n",
    "pairwise_containment = [containment_wrapper(x, y) for x, y in zip(results_df['article_A'], results_df['article_B'])]\n",
    "toc = time.perf_counter()\n",
    "print(f\"code ran in  {toc - tic:0.4f} seconds\")"
   ]
  },
  {
   "cell_type": "markdown",
   "metadata": {},
   "source": [
    "# Making one iterable"
   ]
  },
  {
   "cell_type": "code",
   "execution_count": 23,
   "metadata": {},
   "outputs": [
    {
     "name": "stdout",
     "output_type": "stream",
     "text": [
      "code ran in  32.8679 seconds\n",
      "CPU times: user 32.8 s, sys: 24.2 ms, total: 32.9 s\n",
      "Wall time: 32.9 s\n"
     ]
    }
   ],
   "source": [
    "%%time\n",
    "tic = time.perf_counter()\n",
    "pairwise_containment = [containment_wrapper(x[0], x[1]) for x in article_pairs ]\n",
    "toc = time.perf_counter()\n",
    "print(f\"code ran in  {toc - tic:0.4f} seconds\")"
   ]
  },
  {
   "cell_type": "markdown",
   "metadata": {},
   "source": [
    "# Using parallel processing"
   ]
  },
  {
   "cell_type": "code",
   "execution_count": 24,
   "metadata": {},
   "outputs": [],
   "source": [
    "import multiprocessing"
   ]
  },
  {
   "cell_type": "code",
   "execution_count": 25,
   "metadata": {},
   "outputs": [
    {
     "data": {
      "text/plain": [
       "8"
      ]
     },
     "execution_count": 25,
     "metadata": {},
     "output_type": "execute_result"
    }
   ],
   "source": [
    "# create as many processes as there are CPUs on your machine\n",
    "num_processes = multiprocessing.cpu_count()\n",
    "num_processes"
   ]
  },
  {
   "cell_type": "code",
   "execution_count": 26,
   "metadata": {},
   "outputs": [],
   "source": [
    "# create function that we will paralellise\n",
    "def containment_fun(article_pair):\n",
    "    return containment_wrapper(article_pair[0], article_pair[1])"
   ]
  },
  {
   "cell_type": "code",
   "execution_count": 27,
   "metadata": {},
   "outputs": [
    {
     "data": {
      "text/plain": [
       "2"
      ]
     },
     "execution_count": 27,
     "metadata": {},
     "output_type": "execute_result"
    }
   ],
   "source": [
    "# check it works\n",
    "len(article_pairs[0])"
   ]
  },
  {
   "cell_type": "code",
   "execution_count": 28,
   "metadata": {},
   "outputs": [
    {
     "data": {
      "text/html": [
       "<div>\n",
       "<style scoped>\n",
       "    .dataframe tbody tr th:only-of-type {\n",
       "        vertical-align: middle;\n",
       "    }\n",
       "\n",
       "    .dataframe tbody tr th {\n",
       "        vertical-align: top;\n",
       "    }\n",
       "\n",
       "    .dataframe thead th {\n",
       "        text-align: right;\n",
       "    }\n",
       "</style>\n",
       "<table border=\"1\" class=\"dataframe\">\n",
       "  <thead>\n",
       "    <tr style=\"text-align: right;\">\n",
       "      <th></th>\n",
       "      <th>containment</th>\n",
       "    </tr>\n",
       "  </thead>\n",
       "  <tbody>\n",
       "    <tr>\n",
       "      <th>2369</th>\n",
       "      <td>0.240741</td>\n",
       "    </tr>\n",
       "    <tr>\n",
       "      <th>2193</th>\n",
       "      <td>0.185185</td>\n",
       "    </tr>\n",
       "    <tr>\n",
       "      <th>2162</th>\n",
       "      <td>0.185185</td>\n",
       "    </tr>\n",
       "    <tr>\n",
       "      <th>2136</th>\n",
       "      <td>0.185185</td>\n",
       "    </tr>\n",
       "    <tr>\n",
       "      <th>2137</th>\n",
       "      <td>0.185185</td>\n",
       "    </tr>\n",
       "    <tr>\n",
       "      <th>...</th>\n",
       "      <td>...</td>\n",
       "    </tr>\n",
       "    <tr>\n",
       "      <th>3070</th>\n",
       "      <td>NaN</td>\n",
       "    </tr>\n",
       "    <tr>\n",
       "      <th>3071</th>\n",
       "      <td>NaN</td>\n",
       "    </tr>\n",
       "    <tr>\n",
       "      <th>3072</th>\n",
       "      <td>NaN</td>\n",
       "    </tr>\n",
       "    <tr>\n",
       "      <th>3073</th>\n",
       "      <td>NaN</td>\n",
       "    </tr>\n",
       "    <tr>\n",
       "      <th>3074</th>\n",
       "      <td>NaN</td>\n",
       "    </tr>\n",
       "  </tbody>\n",
       "</table>\n",
       "<p>5000 rows × 1 columns</p>\n",
       "</div>"
      ],
      "text/plain": [
       "      containment\n",
       "2369     0.240741\n",
       "2193     0.185185\n",
       "2162     0.185185\n",
       "2136     0.185185\n",
       "2137     0.185185\n",
       "...           ...\n",
       "3070          NaN\n",
       "3071          NaN\n",
       "3072          NaN\n",
       "3073          NaN\n",
       "3074          NaN\n",
       "\n",
       "[5000 rows x 1 columns]"
      ]
     },
     "execution_count": 28,
     "metadata": {},
     "output_type": "execute_result"
    }
   ],
   "source": [
    "containment_results = pd.DataFrame(pairwise_containment, columns = ['containment'])\n",
    "containment_results.sort_values('containment', ascending = False)"
   ]
  },
  {
   "cell_type": "code",
   "execution_count": 29,
   "metadata": {},
   "outputs": [],
   "source": [
    "assert containment_wrapper(article_pairs[2369][0], article_pairs[2369][1]) == containment_fun(article_pairs[2369])"
   ]
  },
  {
   "cell_type": "code",
   "execution_count": null,
   "metadata": {},
   "outputs": [],
   "source": []
  },
  {
   "cell_type": "code",
   "execution_count": 30,
   "metadata": {},
   "outputs": [
    {
     "name": "stderr",
     "output_type": "stream",
     "text": [
      "/home/d14xj1/repos/plagiarism_detection/medium/src/create_features.py:60: RuntimeWarning: invalid value encountered in long_scalars\n",
      "  containment_val =  intersection / answer_cnt\n",
      "/home/d14xj1/repos/plagiarism_detection/medium/src/create_features.py:60: RuntimeWarning: invalid value encountered in long_scalars\n",
      "  containment_val =  intersection / answer_cnt\n",
      "/home/d14xj1/repos/plagiarism_detection/medium/src/create_features.py:60: RuntimeWarning: invalid value encountered in long_scalars\n",
      "  containment_val =  intersection / answer_cnt\n",
      "/home/d14xj1/repos/plagiarism_detection/medium/src/create_features.py:60: RuntimeWarning: invalid value encountered in long_scalars\n",
      "  containment_val =  intersection / answer_cnt\n"
     ]
    }
   ],
   "source": [
    "pool = multiprocessing.Pool(num_processes)"
   ]
  },
  {
   "cell_type": "code",
   "execution_count": null,
   "metadata": {},
   "outputs": [],
   "source": []
  },
  {
   "cell_type": "code",
   "execution_count": 31,
   "metadata": {},
   "outputs": [
    {
     "name": "stdout",
     "output_type": "stream",
     "text": [
      "code ran in  8.5707 seconds\n"
     ]
    }
   ],
   "source": [
    "tic = time.perf_counter()\n",
    "pairwise_containment = pool.map(containment_fun, article_pairs)\n",
    "toc = time.perf_counter()\n",
    "print(f\"code ran in  {toc - tic:0.4f} seconds\")"
   ]
  },
  {
   "cell_type": "markdown",
   "metadata": {},
   "source": [
    "# with progress bar"
   ]
  },
  {
   "cell_type": "code",
   "execution_count": 33,
   "metadata": {},
   "outputs": [
    {
     "name": "stdout",
     "output_type": "stream",
     "text": [
      "running in parallel\n"
     ]
    },
    {
     "name": "stderr",
     "output_type": "stream",
     "text": [
      " 49%|████▉     | 2440/5000 [00:04<00:03, 742.10it/s]/home/d14xj1/repos/plagiarism_detection/medium/src/create_features.py:60: RuntimeWarning: invalid value encountered in long_scalars\n",
      "  containment_val =  intersection / answer_cnt\n",
      "/home/d14xj1/repos/plagiarism_detection/medium/src/create_features.py:60: RuntimeWarning: invalid value encountered in long_scalars\n",
      "  containment_val =  intersection / answer_cnt\n",
      "/home/d14xj1/repos/plagiarism_detection/medium/src/create_features.py:60: RuntimeWarning: invalid value encountered in long_scalars\n",
      "  containment_val =  intersection / answer_cnt\n",
      "/home/d14xj1/repos/plagiarism_detection/medium/src/create_features.py:60: RuntimeWarning: invalid value encountered in long_scalars\n",
      "  containment_val =  intersection / answer_cnt\n",
      "/home/d14xj1/repos/plagiarism_detection/medium/src/create_features.py:60: RuntimeWarning: invalid value encountered in long_scalars\n",
      "  containment_val =  intersection / answer_cnt\n",
      "/home/d14xj1/repos/plagiarism_detection/medium/src/create_features.py:60: RuntimeWarning: invalid value encountered in long_scalars\n",
      "  containment_val =  intersection / answer_cnt\n",
      "/home/d14xj1/repos/plagiarism_detection/medium/src/create_features.py:60: RuntimeWarning: invalid value encountered in long_scalars\n",
      "  containment_val =  intersection / answer_cnt\n",
      "/home/d14xj1/repos/plagiarism_detection/medium/src/create_features.py:60: RuntimeWarning: invalid value encountered in long_scalars\n",
      "  containment_val =  intersection / answer_cnt\n",
      "100%|██████████| 5000/5000 [00:08<00:00, 573.35it/s] \n"
     ]
    }
   ],
   "source": [
    "from tqdm import tqdm\n",
    "num_processes = multiprocessing.cpu_count()\n",
    "    \n",
    "print('running in parallel')\n",
    "with multiprocessing.Pool(num_processes) as pool:\n",
    "    pairwise_containment = list(tqdm(pool.imap(containment_fun, article_pairs), total = len(article_pairs)))\n",
    "    pool.close()\n",
    "    pool.join()"
   ]
  },
  {
   "cell_type": "code",
   "execution_count": 34,
   "metadata": {},
   "outputs": [
    {
     "data": {
      "text/plain": [
       "5000"
      ]
     },
     "execution_count": 34,
     "metadata": {},
     "output_type": "execute_result"
    }
   ],
   "source": [
    "len(pairwise_containment)"
   ]
  },
  {
   "cell_type": "code",
   "execution_count": null,
   "metadata": {},
   "outputs": [],
   "source": [
    "sff"
   ]
  }
 ],
 "metadata": {
  "kernelspec": {
   "display_name": "Python 3",
   "language": "python",
   "name": "python3"
  },
  "language_info": {
   "codemirror_mode": {
    "name": "ipython",
    "version": 3
   },
   "file_extension": ".py",
   "mimetype": "text/x-python",
   "name": "python",
   "nbconvert_exporter": "python",
   "pygments_lexer": "ipython3",
   "version": "3.7.7"
  }
 },
 "nbformat": 4,
 "nbformat_minor": 4
}
