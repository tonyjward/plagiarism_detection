{
 "cells": [
  {
   "cell_type": "markdown",
   "metadata": {},
   "source": [
    "Add the dictory one level up to the sys path so we can find srv as per\n",
    "https://stackoverflow.com/a/4383597\n"
   ]
  },
  {
   "cell_type": "code",
   "execution_count": 3,
   "metadata": {},
   "outputs": [],
   "source": [
    "import sys\n",
    "sys.path.insert(1, '../') "
   ]
  },
  {
   "cell_type": "code",
   "execution_count": 4,
   "metadata": {},
   "outputs": [],
   "source": [
    "import pickle\n",
    "import os\n",
    "import numpy as np"
   ]
  },
  {
   "cell_type": "code",
   "execution_count": 5,
   "metadata": {},
   "outputs": [],
   "source": [
    "SEARCH_TERM = 'poem'\n",
    "SAVE_DIR = 'data'"
   ]
  },
  {
   "cell_type": "code",
   "execution_count": 6,
   "metadata": {},
   "outputs": [
    {
     "data": {
      "text/plain": [
       "'/home/d14xj1/repos/plagiarism_detection/medium'"
      ]
     },
     "execution_count": 6,
     "metadata": {},
     "output_type": "execute_result"
    }
   ],
   "source": [
    "os.getcwd()"
   ]
  },
  {
   "cell_type": "markdown",
   "metadata": {},
   "source": [
    "# Create Features"
   ]
  },
  {
   "cell_type": "code",
   "execution_count": 7,
   "metadata": {},
   "outputs": [],
   "source": [
    "from src.create_features import ngram_array, containment, calculate_containment"
   ]
  },
  {
   "cell_type": "code",
   "execution_count": 8,
   "metadata": {},
   "outputs": [],
   "source": [
    "# load data\n",
    "filename_clean_results = SEARCH_TERM.replace(' ', '_') +'_results_clean.p'  \n",
    "results = pickle.load(open(os.path.join(SAVE_DIR, filename_clean_results), \"rb\"))"
   ]
  },
  {
   "cell_type": "code",
   "execution_count": 9,
   "metadata": {},
   "outputs": [
    {
     "data": {
      "text/plain": [
       "dict_keys(['links_worked', 'articles', 'author', 'junk', 'links_failed'])"
      ]
     },
     "execution_count": 9,
     "metadata": {},
     "output_type": "execute_result"
    }
   ],
   "source": [
    "results.keys()"
   ]
  },
  {
   "cell_type": "code",
   "execution_count": 10,
   "metadata": {},
   "outputs": [
    {
     "data": {
      "text/plain": [
       "'poem_results_clean.p'"
      ]
     },
     "execution_count": 10,
     "metadata": {},
     "output_type": "execute_result"
    }
   ],
   "source": [
    "filename_clean_results"
   ]
  },
  {
   "cell_type": "code",
   "execution_count": 11,
   "metadata": {},
   "outputs": [
    {
     "data": {
      "text/plain": [
       "867"
      ]
     },
     "execution_count": 11,
     "metadata": {},
     "output_type": "execute_result"
    }
   ],
   "source": [
    "len(results['links_worked'])\n",
    "len(results['articles'])"
   ]
  },
  {
   "cell_type": "code",
   "execution_count": 12,
   "metadata": {},
   "outputs": [],
   "source": [
    "assert len(results['links_worked']) == len(results['articles']) == len(results['author']), 'links/articles/authors should all be same length'"
   ]
  },
  {
   "cell_type": "code",
   "execution_count": 13,
   "metadata": {},
   "outputs": [],
   "source": [
    "# create combinations to test\n",
    "import itertools\n",
    "import pandas as pd\n",
    "\n",
    "article_indices = list(range(len(results['articles'])))\n",
    "combinations = list(itertools.combinations(article_indices,  2))\n",
    "results_df = pd.DataFrame(combinations, columns = ['A', 'B'])"
   ]
  },
  {
   "cell_type": "code",
   "execution_count": 14,
   "metadata": {},
   "outputs": [
    {
     "data": {
      "text/plain": [
       "(375411, 2)"
      ]
     },
     "execution_count": 14,
     "metadata": {},
     "output_type": "execute_result"
    }
   ],
   "source": [
    "results_df.shape"
   ]
  },
  {
   "cell_type": "code",
   "execution_count": 15,
   "metadata": {},
   "outputs": [
    {
     "data": {
      "text/html": [
       "<div>\n",
       "<style scoped>\n",
       "    .dataframe tbody tr th:only-of-type {\n",
       "        vertical-align: middle;\n",
       "    }\n",
       "\n",
       "    .dataframe tbody tr th {\n",
       "        vertical-align: top;\n",
       "    }\n",
       "\n",
       "    .dataframe thead th {\n",
       "        text-align: right;\n",
       "    }\n",
       "</style>\n",
       "<table border=\"1\" class=\"dataframe\">\n",
       "  <thead>\n",
       "    <tr style=\"text-align: right;\">\n",
       "      <th></th>\n",
       "      <th>A</th>\n",
       "      <th>B</th>\n",
       "    </tr>\n",
       "  </thead>\n",
       "  <tbody>\n",
       "    <tr>\n",
       "      <th>0</th>\n",
       "      <td>0</td>\n",
       "      <td>1</td>\n",
       "    </tr>\n",
       "    <tr>\n",
       "      <th>1</th>\n",
       "      <td>0</td>\n",
       "      <td>2</td>\n",
       "    </tr>\n",
       "    <tr>\n",
       "      <th>2</th>\n",
       "      <td>0</td>\n",
       "      <td>3</td>\n",
       "    </tr>\n",
       "    <tr>\n",
       "      <th>3</th>\n",
       "      <td>0</td>\n",
       "      <td>4</td>\n",
       "    </tr>\n",
       "    <tr>\n",
       "      <th>4</th>\n",
       "      <td>0</td>\n",
       "      <td>5</td>\n",
       "    </tr>\n",
       "  </tbody>\n",
       "</table>\n",
       "</div>"
      ],
      "text/plain": [
       "   A  B\n",
       "0  0  1\n",
       "1  0  2\n",
       "2  0  3\n",
       "3  0  4\n",
       "4  0  5"
      ]
     },
     "execution_count": 15,
     "metadata": {},
     "output_type": "execute_result"
    }
   ],
   "source": [
    "results_df.head()"
   ]
  },
  {
   "cell_type": "code",
   "execution_count": 16,
   "metadata": {},
   "outputs": [],
   "source": [
    "# loop over rows and populate author\n",
    "n_rows = results_df.shape[0]\n",
    "author_A, author_B, link_A, link_B, article_A, article_B = [], [], [], [], [], []\n",
    "\n",
    "for row in range(n_rows):\n",
    "    author_A.append(results['author'][results_df.loc[row, 'A']])\n",
    "    author_B.append(results['author'][results_df.loc[row, 'B']])\n",
    "    link_A.append(results['links_worked'][results_df.loc[row, 'A']])\n",
    "    link_B.append(results['links_worked'][results_df.loc[row, 'B']])\n",
    "    article_A.append(results['articles'][results_df.loc[row, 'A']])\n",
    "    article_B.append(results['articles'][results_df.loc[row, 'B']])"
   ]
  },
  {
   "cell_type": "code",
   "execution_count": 17,
   "metadata": {},
   "outputs": [],
   "source": [
    "results_df['author_A'] = author_A\n",
    "results_df['author_B'] = author_B\n",
    "results_df['link_A'] = link_A\n",
    "results_df['link_B'] = link_B\n",
    "results_df['article_A'] = article_A\n",
    "results_df['article_B'] = article_B"
   ]
  },
  {
   "cell_type": "code",
   "execution_count": 19,
   "metadata": {},
   "outputs": [
    {
     "data": {
      "text/html": [
       "<div>\n",
       "<style scoped>\n",
       "    .dataframe tbody tr th:only-of-type {\n",
       "        vertical-align: middle;\n",
       "    }\n",
       "\n",
       "    .dataframe tbody tr th {\n",
       "        vertical-align: top;\n",
       "    }\n",
       "\n",
       "    .dataframe thead th {\n",
       "        text-align: right;\n",
       "    }\n",
       "</style>\n",
       "<table border=\"1\" class=\"dataframe\">\n",
       "  <thead>\n",
       "    <tr style=\"text-align: right;\">\n",
       "      <th></th>\n",
       "      <th>A</th>\n",
       "      <th>B</th>\n",
       "      <th>author_A</th>\n",
       "      <th>author_B</th>\n",
       "      <th>link_A</th>\n",
       "      <th>link_B</th>\n",
       "      <th>article_A</th>\n",
       "      <th>article_B</th>\n",
       "    </tr>\n",
       "  </thead>\n",
       "  <tbody>\n",
       "    <tr>\n",
       "      <th>0</th>\n",
       "      <td>0</td>\n",
       "      <td>1</td>\n",
       "      <td>D. Wyn Price</td>\n",
       "      <td>The Awl</td>\n",
       "      <td>https://medium.com/blueinsight/a-life-in-shade...</td>\n",
       "      <td>https://medium.com/the-awl/a-poem-by-amit-majm...</td>\n",
       "      <td>A Life in Shades of Purple - Blue Insights - M...</td>\n",
       "      <td>A Poem by Amit Majmudar - The Awl - MediumOpen...</td>\n",
       "    </tr>\n",
       "    <tr>\n",
       "      <th>1</th>\n",
       "      <td>0</td>\n",
       "      <td>2</td>\n",
       "      <td>D. Wyn Price</td>\n",
       "      <td>D. Wyn Price</td>\n",
       "      <td>https://medium.com/blueinsight/a-life-in-shade...</td>\n",
       "      <td>https://medium.com/publishous/message-in-a-bot...</td>\n",
       "      <td>A Life in Shades of Purple - Blue Insights - M...</td>\n",
       "      <td>Message in a Bottle: Help. - Publishous - Medi...</td>\n",
       "    </tr>\n",
       "    <tr>\n",
       "      <th>2</th>\n",
       "      <td>0</td>\n",
       "      <td>3</td>\n",
       "      <td>D. Wyn Price</td>\n",
       "      <td>Kristen Arnett</td>\n",
       "      <td>https://medium.com/blueinsight/a-life-in-shade...</td>\n",
       "      <td>https://medium.com/the-shocker/i-was-a-dennis-...</td>\n",
       "      <td>A Life in Shades of Purple - Blue Insights - M...</td>\n",
       "      <td>I Was A Dennis Scott Hot Shot: An Essay About ...</td>\n",
       "    </tr>\n",
       "    <tr>\n",
       "      <th>3</th>\n",
       "      <td>0</td>\n",
       "      <td>4</td>\n",
       "      <td>D. Wyn Price</td>\n",
       "      <td>Rahul Misra</td>\n",
       "      <td>https://medium.com/blueinsight/a-life-in-shade...</td>\n",
       "      <td>https://medium.com/@rahulmisra722/every-time-i...</td>\n",
       "      <td>A Life in Shades of Purple - Blue Insights - M...</td>\n",
       "      <td>Every Time I Write A Poem - Rahul Misra - Medi...</td>\n",
       "    </tr>\n",
       "    <tr>\n",
       "      <th>4</th>\n",
       "      <td>0</td>\n",
       "      <td>5</td>\n",
       "      <td>D. Wyn Price</td>\n",
       "      <td>Joi Lake</td>\n",
       "      <td>https://medium.com/blueinsight/a-life-in-shade...</td>\n",
       "      <td>https://medium.com/illumination/a-silly-smitte...</td>\n",
       "      <td>A Life in Shades of Purple - Blue Insights - M...</td>\n",
       "      <td>A Silly Smitten Poem - ILLUMINATION - MediumOp...</td>\n",
       "    </tr>\n",
       "  </tbody>\n",
       "</table>\n",
       "</div>"
      ],
      "text/plain": [
       "   A  B      author_A        author_B  \\\n",
       "0  0  1  D. Wyn Price         The Awl   \n",
       "1  0  2  D. Wyn Price    D. Wyn Price   \n",
       "2  0  3  D. Wyn Price  Kristen Arnett   \n",
       "3  0  4  D. Wyn Price     Rahul Misra   \n",
       "4  0  5  D. Wyn Price        Joi Lake   \n",
       "\n",
       "                                              link_A  \\\n",
       "0  https://medium.com/blueinsight/a-life-in-shade...   \n",
       "1  https://medium.com/blueinsight/a-life-in-shade...   \n",
       "2  https://medium.com/blueinsight/a-life-in-shade...   \n",
       "3  https://medium.com/blueinsight/a-life-in-shade...   \n",
       "4  https://medium.com/blueinsight/a-life-in-shade...   \n",
       "\n",
       "                                              link_B  \\\n",
       "0  https://medium.com/the-awl/a-poem-by-amit-majm...   \n",
       "1  https://medium.com/publishous/message-in-a-bot...   \n",
       "2  https://medium.com/the-shocker/i-was-a-dennis-...   \n",
       "3  https://medium.com/@rahulmisra722/every-time-i...   \n",
       "4  https://medium.com/illumination/a-silly-smitte...   \n",
       "\n",
       "                                           article_A  \\\n",
       "0  A Life in Shades of Purple - Blue Insights - M...   \n",
       "1  A Life in Shades of Purple - Blue Insights - M...   \n",
       "2  A Life in Shades of Purple - Blue Insights - M...   \n",
       "3  A Life in Shades of Purple - Blue Insights - M...   \n",
       "4  A Life in Shades of Purple - Blue Insights - M...   \n",
       "\n",
       "                                           article_B  \n",
       "0  A Poem by Amit Majmudar - The Awl - MediumOpen...  \n",
       "1  Message in a Bottle: Help. - Publishous - Medi...  \n",
       "2  I Was A Dennis Scott Hot Shot: An Essay About ...  \n",
       "3  Every Time I Write A Poem - Rahul Misra - Medi...  \n",
       "4  A Silly Smitten Poem - ILLUMINATION - MediumOp...  "
      ]
     },
     "execution_count": 19,
     "metadata": {},
     "output_type": "execute_result"
    }
   ],
   "source": [
    "results_df.head()"
   ]
  },
  {
   "cell_type": "code",
   "execution_count": 24,
   "metadata": {},
   "outputs": [
    {
     "data": {
      "text/plain": [
       "(10000, 8)"
      ]
     },
     "execution_count": 24,
     "metadata": {},
     "output_type": "execute_result"
    }
   ],
   "source": [
    "results_test = results_df[:10000]\n",
    "results_test.shape"
   ]
  },
  {
   "cell_type": "code",
   "execution_count": 21,
   "metadata": {},
   "outputs": [],
   "source": [
    "def containment_wrapper(article_A, article_B, n_gram_choice = 20):\n",
    "    if (article_A == 'Blank') or (article_B == 'Blank'):\n",
    "        containment = None\n",
    "    else:\n",
    "        try:\n",
    "            containment = calculate_containment(article_A, article_B, n_gram_choice)\n",
    "        except:\n",
    "            print(f\"We couldn't calculate the containment for row {row}\")\n",
    "            containment = None\n",
    "    return containment"
   ]
  },
  {
   "cell_type": "code",
   "execution_count": 25,
   "metadata": {},
   "outputs": [],
   "source": [
    "import time"
   ]
  },
  {
   "cell_type": "code",
   "execution_count": 27,
   "metadata": {},
   "outputs": [
    {
     "name": "stdout",
     "output_type": "stream",
     "text": [
      "code ran in  22.9576 seconds\n",
      "CPU times: user 22.9 s, sys: 16 ms, total: 23 s\n",
      "Wall time: 23 s\n"
     ]
    }
   ],
   "source": [
    "%%time\n",
    "tic = time.perf_counter()\n",
    "pairwise_containment = [containment_wrapper(x, y) for x, y in zip(results_test['article_A'], results_test['article_B'])]\n",
    "toc = time.perf_counter()\n",
    "print(f\"code ran in  {toc - tic:0.4f} seconds\")"
   ]
  },
  {
   "cell_type": "code",
   "execution_count": null,
   "metadata": {},
   "outputs": [],
   "source": []
  },
  {
   "cell_type": "code",
   "execution_count": null,
   "metadata": {},
   "outputs": [],
   "source": []
  },
  {
   "cell_type": "code",
   "execution_count": null,
   "metadata": {},
   "outputs": [],
   "source": []
  },
  {
   "cell_type": "code",
   "execution_count": null,
   "metadata": {},
   "outputs": [],
   "source": []
  },
  {
   "cell_type": "code",
   "execution_count": null,
   "metadata": {},
   "outputs": [],
   "source": [
    "pairwise_containment = []\n",
    "n_gram_choice = 20\n",
    "\n",
    "for row in range(n_rows):\n",
    "# for row in range(35000):\n",
    "    if (row % 5000) == 0:\n",
    "        print (f\"row {row} of {n_rows} which is {row/n_rows:.2f}\")\n",
    "   \n",
    "        \n",
    "    A = results_df.loc[row, 'A']\n",
    "    B = results_df.loc[row, 'B']\n",
    "    \n",
    "    article_A = results['articles'][A]\n",
    "    article_B = results['articles'][B]\n",
    "    \n",
    "    if (article_A == 'Blank') or (article_B == 'Blank'):\n",
    "        containment = None\n",
    "    else:\n",
    "        try:\n",
    "            containment = calculate_containment(article_A, article_B, n_gram_choice)\n",
    "        except:\n",
    "            print(f\"We couldn't calculate the containment for row {row}\")\n",
    "            containment = None\n",
    "        \n",
    "    pairwise_containment.append(containment)"
   ]
  },
  {
   "cell_type": "code",
   "execution_count": null,
   "metadata": {},
   "outputs": [],
   "source": []
  },
  {
   "cell_type": "code",
   "execution_count": null,
   "metadata": {},
   "outputs": [],
   "source": [
    "pairwise_containment"
   ]
  },
  {
   "cell_type": "code",
   "execution_count": null,
   "metadata": {},
   "outputs": [],
   "source": [
    "results_df.loc[188519]"
   ]
  },
  {
   "cell_type": "code",
   "execution_count": null,
   "metadata": {},
   "outputs": [],
   "source": [
    "results['articles'][332]"
   ]
  },
  {
   "cell_type": "code",
   "execution_count": null,
   "metadata": {},
   "outputs": [],
   "source": [
    "test = [1]"
   ]
  },
  {
   "cell_type": "code",
   "execution_count": null,
   "metadata": {},
   "outputs": [],
   "source": [
    "test.append(None)\n",
    "test\n",
    "pd.DataFrame(test)"
   ]
  },
  {
   "cell_type": "code",
   "execution_count": null,
   "metadata": {},
   "outputs": [],
   "source": [
    "results_df['containment'] = pairwise_containment\n",
    "\n",
    "results_df.sort_values('containment', \n",
    "                       ascending = False,\n",
    "                       inplace = True)"
   ]
  },
  {
   "cell_type": "code",
   "execution_count": null,
   "metadata": {},
   "outputs": [],
   "source": [
    "valid_comparison = results_df.loc[results_df['author_A'] != results_df['author_B']].reset_index(drop=True)\n",
    "# valid_comparison = valid_comparison.loc[~valid_comparison['author_A'].isin(['Carlos E. Perez'])].reset_index(drop = True)\n",
    "#valid_comparison = valid_comparison.loc[~valid_comparison['author_A'].isin(['Ketul G', 'Naveenan', 'Rickyyuan', 'takkii', 'Nilimesh Halder'])].reset_index(drop = True)\n",
    "valid_comparison = valid_comparison.loc[~valid_comparison['link_A'].str.contains('blueinsight')].reset_index(drop = True)\n",
    "valid_comparison.head(20)\n"
   ]
  },
  {
   "cell_type": "code",
   "execution_count": null,
   "metadata": {},
   "outputs": [],
   "source": [
    "idx = 3\n",
    "print(valid_comparison.loc[idx, 'link_A'])\n",
    "print(valid_comparison.loc[idx, 'link_B'])"
   ]
  },
  {
   "cell_type": "code",
   "execution_count": null,
   "metadata": {},
   "outputs": [],
   "source": [
    "results['articles'][valid_comparison.loc[idx, 'A']]"
   ]
  },
  {
   "cell_type": "code",
   "execution_count": null,
   "metadata": {},
   "outputs": [],
   "source": [
    "results['articles'][valid_comparison.loc[idx, 'B']]"
   ]
  },
  {
   "cell_type": "code",
   "execution_count": null,
   "metadata": {},
   "outputs": [],
   "source": [
    "results['articles'][469]"
   ]
  },
  {
   "cell_type": "code",
   "execution_count": null,
   "metadata": {},
   "outputs": [],
   "source": [
    "results['articles'][597]"
   ]
  },
  {
   "cell_type": "code",
   "execution_count": null,
   "metadata": {},
   "outputs": [],
   "source": [
    "filename_results = SEARCH_TERM.replace(' ', '_') +'_summary_table.p'   \n",
    "pickle.dump(valid_comparison, open(os.path.join(SAVE_DIR, filename_results), \"wb\"))\n"
   ]
  },
  {
   "cell_type": "markdown",
   "metadata": {},
   "source": [
    "# LCS"
   ]
  },
  {
   "cell_type": "code",
   "execution_count": null,
   "metadata": {},
   "outputs": [],
   "source": [
    "from src.create_features import lcs_norm_word"
   ]
  },
  {
   "cell_type": "code",
   "execution_count": null,
   "metadata": {},
   "outputs": [],
   "source": [
    "longest_common_subsequence = []\n",
    "\n",
    "#for row in range(n_rows):\n",
    "for row in range(35000):\n",
    "    if (row % 100) == 0:\n",
    "        print (f\"row {row} of {n_rows} which is {row/n_rows:.2f}\")\n",
    "   \n",
    "    A = results_df.loc[row, 'A']\n",
    "    B = results_df.loc[row, 'B']\n",
    "    \n",
    "    article_A = results['articles'][A]\n",
    "    article_B = results['articles'][B]\n",
    "    \n",
    "    if (article_A == 'Blank') or (article_B == 'Blank'):\n",
    "        lcs = None\n",
    "    else:\n",
    "        try:\n",
    "            lcs = lcs_norm_word(article_A, article_B)\n",
    "        except:\n",
    "            print(f\"We couldn't calculate the containment for row {row}\")\n",
    "            lcs = None\n",
    "        \n",
    "    longest_common_subsequence.append(containment)"
   ]
  },
  {
   "cell_type": "code",
   "execution_count": null,
   "metadata": {},
   "outputs": [],
   "source": [
    "a = 1\n",
    "a"
   ]
  },
  {
   "cell_type": "code",
   "execution_count": 1,
   "metadata": {},
   "outputs": [],
   "source": [
    "import multiprocessing"
   ]
  },
  {
   "cell_type": "code",
   "execution_count": null,
   "metadata": {},
   "outputs": [],
   "source": []
  }
 ],
 "metadata": {
  "kernelspec": {
   "display_name": "Python 3",
   "language": "python",
   "name": "python3"
  },
  "language_info": {
   "codemirror_mode": {
    "name": "ipython",
    "version": 3
   },
   "file_extension": ".py",
   "mimetype": "text/x-python",
   "name": "python",
   "nbconvert_exporter": "python",
   "pygments_lexer": "ipython3",
   "version": "3.7.7"
  }
 },
 "nbformat": 4,
 "nbformat_minor": 4
}
